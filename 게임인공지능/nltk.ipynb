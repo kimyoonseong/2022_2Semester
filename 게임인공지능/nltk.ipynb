{
  "nbformat": 4,
  "nbformat_minor": 0,
  "metadata": {
    "colab": {
      "provenance": []
    },
    "kernelspec": {
      "name": "python3",
      "display_name": "Python 3"
    },
    "language_info": {
      "name": "python"
    }
  },
  "cells": [
    {
      "cell_type": "code",
      "execution_count": null,
      "metadata": {
        "colab": {
          "base_uri": "https://localhost:8080/"
        },
        "id": "Ps44lB4OMqg6",
        "outputId": "daaacb5f-61de-4c7b-c467-a09e5194bc71"
      },
      "outputs": [
        {
          "output_type": "stream",
          "name": "stderr",
          "text": [
            "[nltk_data] Downloading collection 'book'\n",
            "[nltk_data]    | \n",
            "[nltk_data]    | Downloading package abc to /root/nltk_data...\n",
            "[nltk_data]    |   Unzipping corpora/abc.zip.\n",
            "[nltk_data]    | Downloading package brown to /root/nltk_data...\n",
            "[nltk_data]    |   Unzipping corpora/brown.zip.\n",
            "[nltk_data]    | Downloading package chat80 to /root/nltk_data...\n",
            "[nltk_data]    |   Unzipping corpora/chat80.zip.\n",
            "[nltk_data]    | Downloading package cmudict to /root/nltk_data...\n",
            "[nltk_data]    |   Unzipping corpora/cmudict.zip.\n",
            "[nltk_data]    | Downloading package conll2000 to /root/nltk_data...\n",
            "[nltk_data]    |   Unzipping corpora/conll2000.zip.\n",
            "[nltk_data]    | Downloading package conll2002 to /root/nltk_data...\n",
            "[nltk_data]    |   Unzipping corpora/conll2002.zip.\n",
            "[nltk_data]    | Downloading package dependency_treebank to\n",
            "[nltk_data]    |     /root/nltk_data...\n",
            "[nltk_data]    |   Unzipping corpora/dependency_treebank.zip.\n",
            "[nltk_data]    | Downloading package genesis to /root/nltk_data...\n",
            "[nltk_data]    |   Unzipping corpora/genesis.zip.\n",
            "[nltk_data]    | Downloading package gutenberg to /root/nltk_data...\n",
            "[nltk_data]    |   Unzipping corpora/gutenberg.zip.\n",
            "[nltk_data]    | Downloading package ieer to /root/nltk_data...\n",
            "[nltk_data]    |   Unzipping corpora/ieer.zip.\n",
            "[nltk_data]    | Downloading package inaugural to /root/nltk_data...\n",
            "[nltk_data]    |   Unzipping corpora/inaugural.zip.\n",
            "[nltk_data]    | Downloading package movie_reviews to\n",
            "[nltk_data]    |     /root/nltk_data...\n",
            "[nltk_data]    |   Unzipping corpora/movie_reviews.zip.\n",
            "[nltk_data]    | Downloading package nps_chat to /root/nltk_data...\n",
            "[nltk_data]    |   Unzipping corpora/nps_chat.zip.\n",
            "[nltk_data]    | Downloading package names to /root/nltk_data...\n",
            "[nltk_data]    |   Unzipping corpora/names.zip.\n",
            "[nltk_data]    | Downloading package ppattach to /root/nltk_data...\n",
            "[nltk_data]    |   Unzipping corpora/ppattach.zip.\n",
            "[nltk_data]    | Downloading package reuters to /root/nltk_data...\n",
            "[nltk_data]    | Downloading package senseval to /root/nltk_data...\n",
            "[nltk_data]    |   Unzipping corpora/senseval.zip.\n",
            "[nltk_data]    | Downloading package state_union to /root/nltk_data...\n",
            "[nltk_data]    |   Unzipping corpora/state_union.zip.\n",
            "[nltk_data]    | Downloading package stopwords to /root/nltk_data...\n",
            "[nltk_data]    |   Unzipping corpora/stopwords.zip.\n",
            "[nltk_data]    | Downloading package swadesh to /root/nltk_data...\n",
            "[nltk_data]    |   Unzipping corpora/swadesh.zip.\n",
            "[nltk_data]    | Downloading package timit to /root/nltk_data...\n",
            "[nltk_data]    |   Unzipping corpora/timit.zip.\n",
            "[nltk_data]    | Downloading package treebank to /root/nltk_data...\n",
            "[nltk_data]    |   Unzipping corpora/treebank.zip.\n",
            "[nltk_data]    | Downloading package toolbox to /root/nltk_data...\n",
            "[nltk_data]    |   Unzipping corpora/toolbox.zip.\n",
            "[nltk_data]    | Downloading package udhr to /root/nltk_data...\n",
            "[nltk_data]    |   Unzipping corpora/udhr.zip.\n",
            "[nltk_data]    | Downloading package udhr2 to /root/nltk_data...\n",
            "[nltk_data]    |   Unzipping corpora/udhr2.zip.\n",
            "[nltk_data]    | Downloading package unicode_samples to\n",
            "[nltk_data]    |     /root/nltk_data...\n",
            "[nltk_data]    |   Unzipping corpora/unicode_samples.zip.\n",
            "[nltk_data]    | Downloading package webtext to /root/nltk_data...\n",
            "[nltk_data]    |   Unzipping corpora/webtext.zip.\n",
            "[nltk_data]    | Downloading package wordnet to /root/nltk_data...\n",
            "[nltk_data]    | Downloading package wordnet_ic to /root/nltk_data...\n",
            "[nltk_data]    |   Unzipping corpora/wordnet_ic.zip.\n",
            "[nltk_data]    | Downloading package words to /root/nltk_data...\n",
            "[nltk_data]    |   Unzipping corpora/words.zip.\n",
            "[nltk_data]    | Downloading package maxent_treebank_pos_tagger to\n",
            "[nltk_data]    |     /root/nltk_data...\n",
            "[nltk_data]    |   Unzipping taggers/maxent_treebank_pos_tagger.zip.\n",
            "[nltk_data]    | Downloading package maxent_ne_chunker to\n",
            "[nltk_data]    |     /root/nltk_data...\n",
            "[nltk_data]    |   Unzipping chunkers/maxent_ne_chunker.zip.\n",
            "[nltk_data]    | Downloading package universal_tagset to\n",
            "[nltk_data]    |     /root/nltk_data...\n",
            "[nltk_data]    |   Unzipping taggers/universal_tagset.zip.\n",
            "[nltk_data]    | Downloading package punkt to /root/nltk_data...\n",
            "[nltk_data]    |   Unzipping tokenizers/punkt.zip.\n",
            "[nltk_data]    | Downloading package book_grammars to\n",
            "[nltk_data]    |     /root/nltk_data...\n",
            "[nltk_data]    |   Unzipping grammars/book_grammars.zip.\n",
            "[nltk_data]    | Downloading package city_database to\n",
            "[nltk_data]    |     /root/nltk_data...\n",
            "[nltk_data]    |   Unzipping corpora/city_database.zip.\n",
            "[nltk_data]    | Downloading package tagsets to /root/nltk_data...\n",
            "[nltk_data]    |   Unzipping help/tagsets.zip.\n",
            "[nltk_data]    | Downloading package panlex_swadesh to\n",
            "[nltk_data]    |     /root/nltk_data...\n",
            "[nltk_data]    | Downloading package averaged_perceptron_tagger to\n",
            "[nltk_data]    |     /root/nltk_data...\n",
            "[nltk_data]    |   Unzipping taggers/averaged_perceptron_tagger.zip.\n",
            "[nltk_data]    | \n",
            "[nltk_data]  Done downloading collection book\n"
          ]
        },
        {
          "output_type": "execute_result",
          "data": {
            "text/plain": [
              "True"
            ]
          },
          "metadata": {},
          "execution_count": 1
        }
      ],
      "source": [
        "import nltk\n",
        "nltk.download('book')"
      ]
    },
    {
      "cell_type": "code",
      "source": [
        "from nltk.book import *"
      ],
      "metadata": {
        "colab": {
          "base_uri": "https://localhost:8080/"
        },
        "id": "juGpJd4JM32-",
        "outputId": "013e6d76-2b8e-49f7-ea60-a06c6d73ed34"
      },
      "execution_count": null,
      "outputs": [
        {
          "output_type": "stream",
          "name": "stdout",
          "text": [
            "*** Introductory Examples for the NLTK Book ***\n",
            "Loading text1, ..., text9 and sent1, ..., sent9\n",
            "Type the name of the text or sentence to view it.\n",
            "Type: 'texts()' or 'sents()' to list the materials.\n",
            "text1: Moby Dick by Herman Melville 1851\n",
            "text2: Sense and Sensibility by Jane Austen 1811\n",
            "text3: The Book of Genesis\n",
            "text4: Inaugural Address Corpus\n",
            "text5: Chat Corpus\n",
            "text6: Monty Python and the Holy Grail\n",
            "text7: Wall Street Journal\n",
            "text8: Personals Corpus\n",
            "text9: The Man Who Was Thursday by G . K . Chesterton 1908\n"
          ]
        }
      ]
    },
    {
      "cell_type": "code",
      "source": [
        "print(text1)\n",
        "print(text2)"
      ],
      "metadata": {
        "colab": {
          "base_uri": "https://localhost:8080/"
        },
        "id": "Kr_cXasjM-dV",
        "outputId": "f572f088-65ca-4783-e554-2aa1cf927cc9"
      },
      "execution_count": null,
      "outputs": [
        {
          "output_type": "stream",
          "name": "stdout",
          "text": [
            "<Text: Moby Dick by Herman Melville 1851>\n",
            "<Text: Sense and Sensibility by Jane Austen 1811>\n"
          ]
        }
      ]
    },
    {
      "cell_type": "code",
      "source": [
        "text1.concordance('monstrous')"
      ],
      "metadata": {
        "colab": {
          "base_uri": "https://localhost:8080/"
        },
        "id": "GQ0XW5klNZ3N",
        "outputId": "1ebe0cee-8260-4b44-8a14-01ed0d0cbecd"
      },
      "execution_count": null,
      "outputs": [
        {
          "output_type": "stream",
          "name": "stdout",
          "text": [
            "Displaying 11 of 11 matches:\n",
            "ong the former , one was of a most monstrous size . ... This came towards us , \n",
            "ON OF THE PSALMS . \" Touching that monstrous bulk of the whale or ork we have r\n",
            "ll over with a heathenish array of monstrous clubs and spears . Some were thick\n",
            "d as you gazed , and wondered what monstrous cannibal and savage could ever hav\n",
            "that has survived the flood ; most monstrous and most mountainous ! That Himmal\n",
            "they might scout at Moby Dick as a monstrous fable , or still worse and more de\n",
            "th of Radney .'\" CHAPTER 55 Of the Monstrous Pictures of Whales . I shall ere l\n",
            "ing Scenes . In connexion with the monstrous pictures of whales , I am strongly\n",
            "ere to enter upon those still more monstrous stories of them which are to be fo\n",
            "ght have been rummaged out of this monstrous cabinet there is no telling . But \n",
            "of Whale - Bones ; for Whales of a monstrous size are oftentimes cast up dead u\n"
          ]
        }
      ]
    },
    {
      "cell_type": "code",
      "source": [
        "text4.dispersion_plot(['citizens','democracy','freedom','America'])"
      ],
      "metadata": {
        "colab": {
          "base_uri": "https://localhost:8080/",
          "height": 295
        },
        "id": "4PS20f22Nq9X",
        "outputId": "88b2f6eb-2195-4a13-be07-3a2c6be8feb1"
      },
      "execution_count": null,
      "outputs": [
        {
          "output_type": "display_data",
          "data": {
            "text/plain": [
              "<Figure size 432x288 with 1 Axes>"
            ],
            "image/png": "[encoded data removed]"
          },
          "metadata": {
            "needs_background": "light"
          }
        }
      ]
    },
    {
      "cell_type": "code",
      "source": [
        "print(len(text2))\n",
        "print(sorted(set(text2)))\n",
        "print(len(sorted(set(text2))))\n",
        "print(len(text2)/len(set(text2)))"
      ],
      "metadata": {
        "colab": {
          "base_uri": "https://localhost:8080/"
        },
        "id": "rqjDy6cSN4CJ",
        "outputId": "00535681-da8b-4fa4-e681-9233982252b5"
      },
      "execution_count": null,
      "outputs": [
        {
          "output_type": "stream",
          "name": "stdout",
          "text": [
            "141576\n",
            "['!', '!\"', '!\"--', \"!'\", '!\\'\"', '!--', '!--\"', '\"', '\"\\'', '\"--', '&', \"'\", \"',\", \"'--\", '(', ')', '),', ')--', '***', ',', ',\"', ',\"--', \",'\", ',)', ',-', ',--', ',--\"', '-', '--', '--\"', \"--'\", '--(', '--,', '-?', '-?\"', '.', '.\"', '.\"--', \".'\", '.\\'\"', \".'--\", '.)', '.)--', '.--', '.--\"', '...', '...\"', '.]', '1', '10', '11', '12', '13', '14', '15', '16', '17', '18', '1811', '19', '2', '20', '200', '21', '22', '23', '24', '25', '26', '27', '28', '29', '3', '30', '31', '32', '33', '34', '35', '36', '37', '38', '39', '4', '40', '41', '42', '43', '44', '45', '46', '47', '48', '49', '5', '50', '6', '7', '7000L', '8', '9', ':', ':--', ':--\"', ';', ';\"', ';\"--', \";'\", ';--', ';--\"', '>', '?', '?\"', '?\"--', \"?'\", '?)', '?--', '?--\"', 'A', 'ALL', 'ALMOST', 'ALWAYS', 'AM', 'ANY', 'ARE', 'Abbeyland', 'About', 'Absence', 'Abundance', 'Add', 'Affecting', 'After', 'Again', 'Against', 'Ah', 'All', 'Allenham', 'Allow', 'Almost', 'Altogether', 'Am', 'Among', 'Amongst', 'An', 'And', 'Annamaria', 'Anne', 'Another', 'Anxiety', 'April', 'Are', 'As', 'Ashamed', 'Astonished', 'Astonishment', 'At', 'Austen', 'Avignon', 'Ay', 'Aye', 'BEEN', 'BOTH', 'Bad', 'Bartlett', 'Barton', 'Bath', 'Beautifully', 'Because', 'Before', 'Being', 'Believe', 'Benevolent', 'Berkeley', 'Besides', 'Betty', 'Between', 'Beyond', 'Biddy', 'Bishop', 'Bond', 'Bonomi', 'Born', 'Brandon', 'Bristol', 'Brown', 'Building', 'Buildings', 'Burgess', 'Business', 'But', 'By', 'CAN', 'CATCHING', 'CHAPTER', 'COULD', 'Can', 'Careless', 'Careys', 'Cartwright', 'Casino', 'Cassino', 'Certainly', 'Chagrined', 'Charlotte', 'Choice', 'Christian', 'Christmas', 'Civil', 'Clarke', 'Cleveland', 'Cold', 'Colonel', 'Columella', 'Combe', 'Come', 'Common', 'Comparisons', 'Concealing', 'Concern', 'Conduit', 'Confess', 'Consider', 'Considering', 'Constantia', 'Continual', 'Conversation', 'Cottage', 'Could', 'Court', 'Courtland', 'Cowper', 'Cross', 'Cruel', 'D', 'DEAR', 'DID', 'DO', 'DOES', 'DRAW', 'Dartford', 'Dashwood', 'Dashwoods', 'Davies', 'Dawlish', 'Dear', 'Dearest', 'Delaford', 'Dennison', 'Depend', 'Design', 'Determined', 'Devonshire', 'Did', 'Disappointed', 'Disappointment', 'Do', 'Doctor', 'Does', 'Domestic', 'Don', 'Donavan', 'Dorsetshire', 'Down', 'Dr', 'Drury', 'Dullness', 'During', 'Duty', 'EDWARD', 'ELINOR', 'END', 'ESTEEM', 'Each', 'Eager', 'Early', 'East', 'Easter', 'Edward', 'Elinor', 'Eliza', 'Elliott', 'Ellison', 'Ellisons', 'Encouraged', 'Engaged', 'Engagement', 'England', 'Epicurism', 'Esq', 'Esteem', 'Even', 'Every', 'Everybody', 'Excellent', 'Exchange', 'Excuse', 'Exert', 'Exeter', 'Extend', 'Extravagance', 'F', 'FAITH', 'FERRARS', 'Fanny', 'Far', 'Farm', 'February', 'Ferrars', 'Few', 'Fifteen', 'Fifty', 'Five', 'Folly', 'For', 'Forgive', 'Fortunately', 'Four', 'Friday', 'From', 'Frosts', 'GAUCHERIE', 'Gardens', 'Gentleman', 'Get', 'Gibson', 'Gilberts', 'Go', 'God', 'Godby', 'Going', 'Gone', 'Good', 'Gracious', 'Grandeur', 'Gray', 'Greatness', 'Grecian', 'Grey', 'HAD', 'HAS', 'HE', 'HER', 'HERS', 'HIM', 'HIS', 'Had', 'Half', 'Hamlet', 'Hanger', 'Hanover', 'Happy', 'Harley', 'Harris', 'Harry', 'Has', 'Have', 'Having', 'He', 'Heaven', 'Henry', 'Henshawe', 'Her', 'Here', 'High', 'His', 'Hitherto', 'Holborn', 'Holburn', 'Hon', 'Honiton', 'Hope', 'Hour', 'House', 'How', 'However', 'Hum', 'Hunters', 'Hush', 'I', 'II', 'IN', 'INconvenience', 'IS', 'If', 'Imagine', 'Impatient', 'Impossible', 'Improve', 'Impudence', 'In', 'Indeed', 'Indies', 'Infirmity', 'Inn', 'Instead', 'Invited', 'Is', 'It', 'JOHN', 'James', 'Jane', 'January', 'Jenning', 'Jennings', 'John', 'Just', 'KNEW', 'Kensington', 'Kingham', 'Know', 'Knowing', 'L', 'LESS', 'LET', 'LONG', 'LOOK', 'LOOKED', 'LUCY', 'La', 'Lady', 'Ladyship', 'Lane', 'Last', 'Laughing', 'Law', 'Let', 'Life', 'Like', 'Little', 'Lodging', 'Lombardy', 'London', 'Long', 'Longstaple', 'Look', 'Lord', 'Luckily', 'Lucy', 'M', 'MADAM', 'MAY', 'ME', 'MIND', 'MONTH', 'MUST', 'MY', 'Ma', 'Mab', 'Madam', 'Magna', 'Mall', 'Mama', 'Mamma', 'Mansion', 'Many', 'March', 'Margaret', 'Marianne', 'Marlborough', 'Martha', 'Mary', 'Master', 'May', 'Me', 'Men', 'Michaelmas', 'Mid', 'Middleton', 'Middletons', 'Midsummer', 'Mind', 'Mine', 'Misery', 'Miss', 'Misses', 'Mistress', 'Monday', 'Months', 'More', 'Morton', 'Most', 'Mr', 'Mrs', 'Much', 'Music', 'Must', 'My', 'NOT', 'NOW', 'Nancy', 'Nay', 'Neither', 'Never', 'New', 'Newton', 'No', 'Nobody', 'None', 'Nor', 'Norfolk', 'Norland', 'Not', 'Nothing', 'November', 'Now', 'OCCASION', 'ONCE', 'ONE', 'OUGHT', 'OWN', 'October', 'Of', 'Offended', 'Oh', 'On', 'Once', 'One', 'Only', 'Opportunity', 'Opposition', 'Or', 'Other', 'Others', 'Our', 'Oxford', 'P', 'PARTIES', 'Pall', 'Palmer', 'Palmers', 'Pardon', 'Park', 'Parliament', 'Parrys', 'Parsonage', 'Perhaps', 'Pity', 'Please', 'Pleased', 'Plymouth', 'Poor', 'Pope', 'Portman', 'Pratt', 'Pray', 'Precious', 'Preparation', 'Prescriptions', 'Priory', 'Queen', 'Quite', 'REALLY', 'ROBERT', 'Rather', 'Reading', 'Really', 'Recollecting', 'Reflection', 'Regard', 'Relate', 'Remember', 'Reserved', 'Restless', 'Richard', 'Richardson', 'Richardsons', 'Robert', 'Rose', 'S', 'SHALL', 'SHE', 'SHOULD', 'SIR', 'SOMETIMES', 'STILL', 'Sackville', 'Sally', 'Sandersons', 'Saturday', 'Scarcely', 'Scotland', 'Scott', 'Secrecy', 'Selfish', 'Sense', 'Sensibility', 'September', 'Seven', 'Shakespeare', 'Shall', 'Sharpe', 'She', 'Short', 'Should', 'Shyness', 'Simpson', 'Since', 'Sincerely', 'Sir', 'Sit', 'Smith', 'So', 'Some', 'Somehow', 'Somerset', 'Somersetshire', 'Something', 'Sometimes', 'Soon', 'Sophia', 'Sparks', 'Square', 'St', 'Stanhill', 'Steele', 'Steeles', 'Still', 'Strange', 'Street', 'Streets', 'Such', 'Sunday', 'Supported', 'Supposing', 'Sure', 'Surely', 'Surprised', 'Sussex', 'THAT', 'THE', 'THEIR', 'THEM', 'THEN', 'THERE', 'THESE', 'THEY', 'THIS', 'THREE', 'TIME', 'TOLD', 'TRIED', 'TWICE', 'TWO', 'Take', 'Taylor', 'Tell', 'Temple', 'Thank', 'That', 'The', 'Their', 'Then', 'There', 'These', 'They', 'Think', 'This', 'Thomas', 'Thomson', 'Those', 'Though', 'Three', 'Thunderbolts', 'Thursday', 'Thus', 'Till', 'Time', 'Tis', 'To', 'Towards', 'Truth', 'Tuesday', 'Twice', 'Twill', 'Two', 'US', 'Unaccountable', 'Undoubtedly', 'Ungracious', 'Upon', 'Use', 'VERY', 'Valley', 'Vanity', 'Very', 'Volume', 'W', 'WAS', 'WE', 'WERE', 'WHAT', 'WHERE', 'WILL', 'WILLOUGHBY', 'WITHOUT', 'WORD', 'WOULD', 'Wait', 'Walker', 'Want', 'Was', 'Watched', 'We', 'Wednesday', 'Well', 'Were', 'Westminster', 'Westons', 'Weymouth', 'What', 'Whatever', 'When', 'Whenever', 'Where', 'Whereas', 'Wherever', 'Whether', 'Which', 'While', 'Whitakers', 'Whitwell', 'Who', 'Whoever', 'Whom', 'Why', 'Will', 'William', 'Williams', 'Willing', 'Willoughby', 'Willoughbys', 'With', 'Within', 'Without', 'Would', 'Writing', 'YOU', 'YOUR', 'Yes', 'Yet', 'You', 'Your', '[', ']', 'a', 'abandoned', 'abatement', 'abhor', 'abhorred', 'abhorrence', 'abilities', 'ability', 'able', 'ablest', 'abode', 'abominably', 'abounded', 'about', 'above', 'abridge', 'abridgement', 'abroad', 'abruptly', 'abruptness', 'absence', 'absent', 'absolute', 'absolutely', 'abstracted', 'abstraction', 'abstruse', 'absurd', 'absurdity', 'abundance', 'abundantly', 'abuse', 'abused', 'abuses', 'acacia', 'accelerate', 'accent', 'accents', 'accept', 'acceptable', 'acceptably', 'acceptance', 'accepted', 'accepting', 'accident', 'accidental', 'accidentally', 'accidently', 'accommodate', 'accommodating', 'accommodation', 'accommodations', 'accompanied', 'accompany', 'accomplished', 'accomplishment', 'accordant', 'according', 'accordingly', 'accosted', 'account', 'accounted', 'accounts', 'accrue', 'accurately', 'accusation', 'accuse', 'accustom', 'accustomary', 'aches', 'aching', 'acknowledge', 'acknowledged', 'acknowledging', 'acknowledgment', 'acknowledgments', 'acquaintance', 'acquaintances', 'acquainted', 'acquiesced', 'acquiescence', 'acquired', 'acquisition', 'acquit', 'acquitted', 'acquitting', 'across', 'act', 'acted', 'acting', 'action', 'actions', 'active', 'acts', 'actual', 'actually', 'acute', 'acutely', 'acuteness', 'adapted', 'add', 'added', 'adding', 'addition', 'additional', 'additions', 'address', 'addressed', 'addresses', 'addressing', 'adequate', 'adhering', 'adieu', 'adieus', 'adjoining', 'adjusting', 'administer', 'administering', 'admirable', 'admiration', 'admire', 'admired', 'admirers', 'admires', 'admiring', 'admission', 'admit', 'admittance', 'admitted', 'admitting', 'adopt', 'adopted', 'adorned', 'advance', 'advanced', 'advancement', 'advances', 'advancing', 'advantage', 'advantageous', 'advantages', 'advice', 'advisable', 'advise', 'advised', 'affability', 'affable', 'affair', 'affairs', 'affect', 'affectation', 'affected', 'affectedly', 'affecting', 'affection', 'affectionate', 'affectionately', 'affections', 'affects', 'affirmative', 'affixed', 'afflict', 'afflicted', 'afflicting', 'affliction', 'afflictions', 'affluence', 'afford', 'afforded', 'affording', 'affront', 'affronting', 'afraid', 'after', 'afternoon', 'afterward', 'afterwards', 'again', 'against', 'age', 'ages', 'aggrandizement', 'aggravation', 'agitate', 'agitated', 'agitation', 'ago', 'agonies', 'agony', 'agree', 'agreeable', 'agreed', 'agreeing', 'agreement', 'aid', 'ailment', 'ailments', 'aim', 'aimed', 'air', 'alacrity', 'alarm', 'alarmed', 'alarming', 'alarms', 'alienated', 'alighted', 'alike', 'alive', 'all', 'alleged', 'alleviation', 'allow', 'allowable', 'allowance', 'allowances', 'allowed', 'allowing', 'alloy', 'alluded', 'allusion', 'almost', 'alone', 'along', 'aloud', 'alphabet', 'already', 'also', 'altar', 'alter', 'alteration', 'alterations', 'altered', 'altering', 'alternately', 'alternative', 'although', 'altogether', 'always', 'am', 'amazement', 'amazing', 'amazingly', 'ambition', 'amended', 'amendment', 'amends', 'amiable', 'amiably', 'amidst', 'amiss', 'among', 'amongst', 'amount', 'amounted', 'ample', 'amply', 'amuse', 'amused', 'amusement', 'amusements', 'amusing', 'an', 'ancient', 'and', 'anew', 'angel', 'anger', 'angrily', 'angry', 'anguish', 'animated', 'animating', 'animation', 'ankle', 'ankles', 'annexed', 'annihilation', 'announce', 'announced', 'announcing', 'annuities', 'annuity', 'annum', 'another', 'answer', 'answerable', 'answered', 'answering', 'answers', 'anticipate', 'anticipated', 'anticipating', 'anticipation', 'anticipations', 'anxiety', 'anxious', 'anxiously', 'any', 'anybody', 'anymore', 'anything', 'apartment', 'apartments', 'apiece', 'apologies', 'apologising', 'apologize', 'apologized', 'apology', 'apothecary', 'apparent', 'apparently', 'appeal', 'appear', 'appearance', 'appearances', 'appeared', 'appearing', 'appeased', 'appetite', 'appetites', 'applauded', 'application', 'applied', 'applying', 'appointed', 'appointment', 'apprehended', 'apprehension', 'apprehensions', 'apprehensive', 'approach', 'approached', 'approaching', 'approbation', 'appropriate', 'approve', 'approved', 'apricot', 'aptitude', 'arbour', 'archness', 'ardent', 'ardour', 'are', 'argue', 'argument', 'arguments', 'arise', 'arisen', 'arm', 'arms', 'army', 'arose', 'around', 'arranged', 'arrangement', 'arrangements', 'arranging', 'arrival', 'arrive', 'arrived', 'arrives', 'arriving', 'art', 'artful', 'article', 'articulate', 'articulation', 'artificial', 'artless', 'artlessness', 'as', 'ascended', 'ascending', 'ascertain', 'ascertained', 'ash', 'ashamed', 'aside', 'ask', 'asked', 'asking', 'asleep', 'aspect', 'assembled', 'assemblies', 'assent', 'assented', 'asserted', 'assertion', 'assertions', 'assiduities', 'assiduous', 'assigned', 'assist', 'assistance', 'assisted', 'assisting', 'associate', 'associating', 'assuage', 'assurance', 'assurances', 'assure', 'assured', 'assuring', 'astonished', 'astonishing', 'astonishment', 'astray', 'asunder', 'at', 'ate', 'atmosphere', 'atone', 'atoned', 'atonement', 'atoning', 'attach', 'attached', 'attaching', 'attachment', 'attachments', 'attack', 'attacked', 'attacks', 'attainable', 'attained', 'attempt', 'attempted', 'attempting', 'attempts', 'attend', 'attendance', 'attendant', 'attendants', 'attended', 'attending', 'attention', 'attentions', 'attentive', 'attentively', 'attitude', 'attract', 'attracted', 'attraction', 'attractions', 'attractive', 'attribute', 'attributed', 'attributing', 'audacity', 'audible', 'auditors', 'augment', 'augmented', 'augmenting', 'aunt', 'auspicious', 'auspiciously', 'author', 'authorised', 'authority', 'authors', 'autumn', 'avail', 'availed', 'avarice', 'avoid', 'avoided', 'avoiding', 'avowal', 'await', 'awaited', 'awake', 'awaken', 'awakened', 'awakening', 'awaking', 'aware', 'away', 'awful', 'awhile', 'awkward', 'awkwardness', 'awoke', 'ay', 'aye', 'baby', 'bachelor', 'back', 'backwardness', 'backwards', 'bad', 'badness', 'bags', 'ball', 'balls', 'band', 'banditti', 'banish', 'banished', 'bank', 'banker', 'banns', 'barbarous', 'barbarously', 'bargain', 'barouche', 'barouches', 'bashful', 'basis', 'basket', 'bathed', 'be', 'beamed', 'bear', 'bearing', 'bears', 'beasts', 'beat', 'beau', 'beauties', 'beautiful', 'beautifully', 'beauty', 'beaux', 'became', 'because', 'become', 'becoming', 'bed', 'bedchamber', 'bedroom', 'bedrooms', 'beds', 'bee', 'beef', 'been', 'befall', 'befallen', 'befalls', 'befell', 'before', 'beg', 'began', 'begged', 'begging', 'begin', 'beginning', 'begins', 'begun', 'behave', 'behaved', 'behaviour', 'beheld', 'behind', 'behold', 'beholding', 'being', 'beings', 'belief', 'believe', 'believed', 'believes', 'believing', 'bell', 'belonged', 'belonging', 'belongs', 'beloved', 'below', 'bely', 'beneath', 'benefactress', 'beneficial', 'benefit', 'benefited', 'benevolence', 'benignant', 'bent', 'bequeath', 'bequeathed', 'bequest', 'beset', 'besides', 'bespeak', 'bespoke', 'best', 'bestow', 'bestowed', 'bestowing', 'betray', 'betrayed', 'betraying', 'better', 'between', 'bewitching', 'beyond', 'bias', 'biased', 'bid', 'bidding', 'bide', 'bigger', 'billiard', 'billiards', 'bind', 'birth', 'bit', 'bitch', 'bitter', 'bitterly', 'bitterness', 'black', 'blackest', 'blackguard', 'blamable', 'blame', 'blameable', 'blamed', 'blameless', 'blank', 'blast', 'blasted', 'bless', 'blessed', 'blessing', 'blessings', 'blights', 'blind', 'blinded', 'blindly', 'bliss', 'blockhead', 'blood', 'bloom', 'blooming', 'blossoms', 'blow', 'blown', 'blue', 'blunder', 'blundered', 'blunt', 'bluntly', 'blush', 'blushed', 'blushes', 'blushing', 'bluster', 'board', 'boast', 'boasting', 'bodily', 'body', 'boiled', 'boisterous', 'bold', 'bolder', 'boldly', 'bones', 'bonnet', 'book', 'books', 'booksellers', 'bore', 'born', 'borne', 'borrow', 'borrowed', 'both', 'bottom', 'bottoms', 'bound', 'bout', 'bow', 'bowed', 'bowing', 'bowling', 'boy', 'boyish', 'boys', 'branch', 'branched', 'braving', 'breach', 'break', 'breakfast', 'breakfasting', 'breaking', 'breast', 'breath', 'breathing', 'bred', 'breed', 'breeding', 'bribing', 'brief', 'briefly', 'bright', 'brightened', 'brighter', 'brightness', 'brilliancy', 'brilliant', 'bring', 'bringing', 'brings', 'broad', 'broader', 'broke', 'broken', 'brood', 'brooding', 'brother', 'brothers', 'brought', 'brow', 'brown', 'bruised', 'brush', 'build', 'building', 'built', 'bulk', 'burnt', 'burst', 'bursts', 'bury', 'busily', 'business', 'bustle', 'busy', 'but', 'butcher', 'buy', 'buying', 'by', 'bye', 'c', 'calculate', 'calculated', 'calculation', 'call', 'called', 'calling', 'calls', 'calm', 'calmer', 'calming', 'calmly', 'calmness', 'came', 'can', 'canal', 'candid', 'candidly', 'candlelight', 'candles', 'candour', 'cannot', 'cant', 'canvassing', 'cap', 'capability', 'capable', 'caprice', 'captivate', 'captivating', 'card', 'cards', 'care', 'careful', 'carefully', 'carefulness', 'careless', 'carelessly', 'carelessness', 'cares', 'caresses', 'caressing', 'caricature', 'carpet', 'carriage', 'carriages', 'carried', 'carries', 'carry', 'carrying', 'case', 'casement', 'cases', 'cash', 'cast', 'casts', 'catch', 'catching', 'cats', 'caught', 'cause', 'caused', 'caution', 'cautious', 'cautiously', 'cautiousness', 'cavil', 'cease', 'ceased', 'ceasing', 'ceiling', 'celebrated', 'celebration', 'censure', 'censured', 'centered', 'centre', 'ceremony', 'certain', 'certainly', 'certainties', 'certainty', 'cessation', 'chained', 'chair', 'chairs', 'chaise', 'chamber', 'chambers', 'chance', 'chanced', 'change', 'changed', 'changes', 'changing', 'chaperon', 'character', 'characters', 'charge', 'charged', 'chariot', 'charity', 'charm', 'charmed', 'charming', 'charms', 'chat', 'chatty', 'cheap', 'cheat', 'cheated', 'check', 'checked', 'checking', 'cheek', 'cheeks', 'cheered', 'cheerful', 'cheerfuller', 'cheerfulness', 'cheerless', 'cherished', 'cherishing', 'cherries', 'chicken', 'chief', 'chiefly', 'child', 'children', 'chimney', 'china', 'choice', 'choked', 'choose', 'chose', 'chosen', 'chuckle', 'church', 'chuse', 'chusing', 'circle', 'circles', 'circuit', 'circumspection', 'circumstance', 'circumstanced', 'circumstances', 'city', 'civil', 'civilities', 'civility', 'civilly', 'claim', 'claimed', 'claiming', 'claims', 'clamorous', 'clapped', 'classed', 'clear', 'cleared', 'clearer', 'clearing', 'clearly', 'clemency', 'clergyman', 'clerk', 'clever', 'climate', 'climbing', 'clock', 'clogged', 'close', 'closed', 'closely', 'closer', 'closet', 'closing', 'clothes', 'cloud', 'clouds', 'club', 'clue', 'coach', 'coachmaker', 'coachman', 'coat', 'coats', 'cod', 'coffee', 'coincide', 'cold', 'colder', 'coldness', 'colicky', 'collation', 'collect', 'collected', 'collecting', 'collection', 'colonel', 'colour', 'coloured', 'colouring', 'combat', 'come', 'comer', 'comes', 'comfort', 'comfortable', 'comfortably', 'comforted', 'comforter', 'comforts', 'coming', 'comings', 'command', 'commanded', 'commands', 'commendation', 'commended', 'comment', 'comments', 'commercial', 'commiseration', 'commission', 'commissioned', 'common', 'commonest', 'commonly', 'communicate', 'communicated', 'communicating', 'communication', 'communicative', 'compact', 'companion', 'companionableness', 'companions', 'company', 'comparative', 'comparatively', 'compare', 'compared', 'compares', 'comparison', 'comparisons', 'compass', 'compassion', 'compassionate', 'competence', 'complacency', 'complain', 'complained', 'complaining', 'complaint', 'complaints', 'complaisance', 'complete', 'completed', 'completely', 'completion', 'complexion', 'compliance', 'compliant', 'complicated', 'compliment', 'compliments', 'composed', 'composedly', 'composition', 'composure', 'compound', 'comprehend', 'comprehended', 'comprehension', 'comprise', 'comprised', 'compromise', 'compunction', 'conceal', 'concealed', 'concealing', 'concealment', 'conceit', 'conceited', 'conceive', 'concern', 'concerned', 'concerning', 'concerns', 'concerto', 'concession', 'concessions', 'conciliate', 'conciliation', 'concise', 'conclude', 'concluded', 'concluding', 'conclusion', 'conclusions', 'concurrence', 'condemnation', 'condemned', 'condemning', 'condescend', 'condition', 'conditioned', 'conditions', 'condolence', 'conduct', 'conducted', 'confederacy', 'conference', 'confess', 'confessed', 'confessedly', 'confession', 'confidant', 'confidante', 'confidence', 'confident', 'confidential', 'confiding', 'confined', 'confinement', 'confirm', 'confirmation', 'confirmed', 'confirming', 'conform', 'conforming', 'conformity', 'confound', 'confounded', 'confused', 'confusedly', 'confusion', 'congratulate', 'congratulated', 'congratulating', 'congratulations', 'conjectural', 'conjecture', 'conjectured', 'conjectures', 'conjecturing', 'conjure', 'conjurer', 'connect', 'connected', 'connection', 'connections', 'conning', 'connoisseur', 'connoisseurship', 'conquest', 'conquests', 'conscience', 'conscientious', 'conscientiously', 'conscious', 'consciousness', 'consent', 'consented', 'consequence', 'consequences', 'consequent', 'consequently', 'consider', 'considerable', 'considerably', 'considerate', 'considerately', 'consideration', 'considerations', 'considered', 'considering', 'considers', 'consisted', 'consistency', 'consistent', 'consists', 'consolation', 'consoled', 'conspicuous', 'conspired', 'constancy', 'constant', 'constantly', 'consternation', 'constitution', 'constitutional', 'constrained', 'construction', 'consult', 'consultation', 'consulted', 'consumption', 'contained', 'containing', 'contempt', 'contemptible', 'contemptuous', 'contemptuously', 'contend', 'content', 'contented', 'contenting', 'contentment', 'contents', 'continual', 'continually', 'continuance', 'continuation', 'continue', 'continued', 'continuing', 'contracted', 'contraction', 'contradict', 'contradicted', 'contradictory', 'contrary', 'contrast', 'contrasted', 'contribute', 'contributed', 'contributing', 'contribution', 'contrition', 'contrivance', 'contrived', 'contrives', 'contriving', 'control', 'controlled', 'convenience', 'conveniences', 'convenient', 'conveniently', 'conversation', 'conversations', 'converse', 'conversed', 'conversing', 'convert', 'conveyed', 'conveying', 'conviction', 'convince', 'convinced', 'convincing', 'cool', 'coolness', 'copied', 'copy', 'copying', 'cordial', 'cordiality', 'cordially', 'cordials', 'corner', 'correct', 'correctness', 'correspond', 'correspondence', 'cost', 'cote', 'cottage', 'cottages', 'couched', 'cough', 'could', 'counsel', 'counsellor', 'countenance', 'counter', 'counteract', 'counteracted', 'countless', 'country', 'county', 'couple', 'couples', 'courage', 'course', 'court', 'courted', 'courtesy', 'courting', 'cousin', 'cousins', 'covenant', 'covered', 'covering', 'covert', 'cows', 'coxcomb', 'coxcombs', 'cramps', 'create', 'created', 'creating', 'creation', 'creature', 'creatures', 'credit', 'creditable', 'credulous', 'crept', 'cried', 'cries', 'crime', 'criminal', 'crimsoned', 'critical', 'critique', 'crooked', 'cross', 'crossing', 'crossness', 'crowd', 'crowned', 'cruel', 'cruelly', 'cruelty', 'cry', 'crying', 'cultivated', 'cunning', 'curacy', 'curate', 'cure', 'curiosity', 'curious', 'curricle', 'curtsying', 'cut', 'cutlets', 'cutting', 'd', 'dagger', 'daggers', 'daily', 'dairy', 'damp', 'dance', 'danced', 'dances', 'dancing', 'danger', 'dangerous', 'dare', 'dared', 'dares', 'dark', 'darker', 'darling', 'dashing', 'date', 'daughter', 'daughters', 'dawdled', 'dawdling', 'dawned', 'day', 'days', 'dead', 'deal', 'dealt', 'dear', 'dearer', 'dearest', 'dearly', 'death', 'debate', 'debated', 'debating', 'debt', 'debts', 'decay', 'decease', 'deceitful', 'deceive', 'deceived', 'deceiving', 'decent', 'decently', 'deception', 'decide', 'decided', 'deciding', 'decision', 'decisions', 'decisive', 'decisively', 'declaration', 'declare', 'declared', 'declares', 'declaring', 'decline', 'declined', 'declining', 'decorum', 'decrease', 'decree', 'deed', 'deemed', 'deep', 'deeper', 'deepest', 'deeply', 'defect', 'defective', 'defects', 'defence', 'defend', 'defended', 'defer', 'deference', 'deficiencies', 'deficiency', 'deficient', 'define', 'defined', 'defy', 'degrade', 'degraded', 'degree', 'degrees', 'dejected', 'dejection', 'delay', 'delayed', 'delays', 'deliberate', 'deliberating', 'deliberation', 'delicacies', 'delicacy', 'delicate', 'delighful', 'delight', 'delighted', 'delightful', 'delightfully', 'delineated', 'delirium', 'deliver', 'deliverance', 'delivered', 'delivery', 'demand', 'demanded', 'demands', 'demeanor', 'demesne', 'demonstrations', 'demur', 'demure', 'denial', 'denied', 'denote', 'denoted', 'denoting', 'deny', 'depart', 'departed', 'departing', 'departure', 'depend', 'depended', 'dependence', 'dependent', 'depending', 'depends', 'deplorable', 'depravity', 'depressed', 'deprive', 'deprived', 'derive', 'derived', 'descend', 'descendant', 'describe', 'described', 'describing', 'description', 'deserted', 'desertion', 'deserts', 'deserve', 'deserved', 'deserves', 'deserving', 'design', 'designs', 'desirable', 'desire', 'desired', 'desiring', 'desirous', 'despair', 'despatch', 'despatching', 'desperate', 'desperately', 'desperation', 'despise', 'despised', 'despising', 'despondence', 'desponding', 'dessert', 'destination', 'destiny', 'destroy', 'destroyed', 'destroys', 'destruction', 'detail', 'detain', 'detaining', 'detected', 'detecting', 'detection', 'deter', 'determinate', 'determination', 'determine', 'determined', 'determining', 'deterred', 'detest', 'detestably', 'detested', 'detract', 'deviation', 'devil', 'devolved', 'devoted', 'diabolical', 'dictate', 'diction', 'did', 'died', 'dies', 'differed', 'difference', 'different', 'differently', 'differing', 'difficult', 'difficulties', 'difficulty', 'diffident', 'diffuse', 'dignified', 'dignity', 'dilatoriness', 'dimensions', 'diminished', 'diminution', 'dine', 'dined', 'dining', 'dinner', 'dinners', 'direct', 'directed', 'directing', 'direction', 'directions', 'directly', 'dirt', 'dirty', 'disadvantage', 'disagreeable', 'disagreement', 'disagreements', 'disappeared', 'disappoint', 'disappointed', 'disappointing', 'disappointment', 'disappointments', 'disapprobation', 'disapprove', 'disapproved', 'disapproves', 'disapproving', 'disarm', 'disastrous', 'disbelief', 'discarded', 'discern', 'discerning', 'discernment', 'discharge', 'discharged', 'discharging', 'disclaiming', 'disclosing', 'disclosure', 'discompose', 'discomposed', 'discontent', 'discontented', 'discontents', 'discourse', 'discover', 'discovered', 'discovering', 'discovery', 'discreet', 'discretion', 'discrimination', 'discussion', 'discussions', 'disengaged', 'disengagement', 'disgrace', 'disgraced', 'disgraceful', 'disgust', 'disgusted', 'disgusting', 'dishonorable', 'disinclination', 'disinherited', 'disinterested', 'disinterestedness', 'dislike', 'disliked', 'disliking', 'dismiss', 'dismissed', 'dismounted', 'disobedient', 'disorder', 'disordered', 'dispatch', 'dispatched', 'dispatches', 'dispersed', 'dispersing', 'dispirited', 'display', 'displayed', 'displeased', 'displeasure', 'disposal', 'dispose', 'disposed', 'disposing', 'disposition', 'disproportion', 'dispute', 'disputes', 'disqualifications', 'disquiet', 'disregard', 'disregarded', 'disrespectfully', 'dissatisfaction', 'dissatisfied', 'dissembling', 'dissent', 'dissented', 'dissimilar', 'dissipated', 'dissipation', 'dissolving', 'dissuade', 'distance', 'distant', 'distinction', 'distinguish', 'distinguished', 'distinguishing', 'distractedly', 'distress', 'distressed', 'distresses', 'distressing', 'distrust', 'distrusts', 'disturb', 'disturbed', 'diverted', 'divide', 'divided', 'dividing', 'divine', 'division', 'divorce', 'do', 'doat', 'doatingly', 'doctrine', 'does', 'dog', 'dogs', 'doing', 'domestic', 'don', 'done', 'doomed', 'dooming', 'door', 'doors', 'doted', 'doting', 'dotted', 'doubly', 'doubt', 'doubted', 'doubtful', 'doubting', 'doubtingly', 'doubtless', 'doubts', 'douceur', 'dove', 'down', 'downs', 'drain', 'drains', 'draw', 'drawback', 'drawing', 'drawings', 'drawn', 'draws', 'dread', 'dreaded', 'dreadful', 'dreadfully', 'dreading', 'dream', 'dreaming', 'dress', 'dressed', 'dresses', 'dressing', 'drew', 'dried', 'drift', 'drink', 'drinking', 'drive', 'driven', 'drives', 'driving', 'droll', 'drop', 'dropped', 'drops', 'dropt', 'drove', 'drunk', 'dry', 'dryness', 'due', 'duets', 'dull', 'dullness', 'duly', 'dupe', 'duration', 'during', 'duties', 'duty', 'dwell', 'dwelling', 'dwelt', 'dying', 'each', 'eager', 'eagerly', 'eagerness', 'ear', 'earlier', 'earliest', 'early', 'earned', 'earnest', 'earnestly', 'earnestness', 'ears', 'earth', 'earthly', 'ease', 'easier', 'easiest', 'easily', 'east', 'easy', 'eat', 'eating', 'ebullition', 'echoed', 'eclat', 'economical', 'economically', 'economy', 'ecstasy', 'ecstatic', 'edge', 'editions', 'edtions', 'education', 'effect', 'effected', 'effecting', 'effects', 'effectual', 'effectually', 'efficacy', 'effort', 'effusion', 'effusions', 'eight', 'eighteen', 'eighty', 'either', 'ejaculation', 'elder', 'elderly', 'eldest', 'elect', 'election', 'elegance', 'elegant', 'elevated', 'eligibility', 'eligible', 'eloping', 'eloquence', 'else', 'elsewhere', 'elucidation', 'eluded', 'em', 'embarrassed', 'embarrassment', 'embellishment', 'embellishments', 'embitter', 'embraced', 'embraces', 'emergence', 'emergency', 'emigrant', 'eminence', 'emotion', 'emphasis', 'employ', 'employed', 'employment', 'employments', 'emptiness', 'enable', 'enabled', 'enamoured', 'enclosure', 'encourage', 'encouraged', 'encouragement', 'encouragements', 'encouraging', 'encroachments', 'encumbered', 'end', 'endear', 'endeavor', 'endeavoring', 'endeavors', 'endeavour', 'endeavoured', 'endeavouring', 'endeavours', 'ended', 'ending', 'endless', 'endowed', 'ends', 'endurance', 'endure', 'endured', 'enemy', 'energy', 'enfeebled', 'enforced', 'enforcement', 'enforcing', 'enfranchisement', 'engage', 'engaged', 'engagement', 'engagements', 'engaging', 'engross', 'engrossed', 'enjoy', 'enjoyed', 'enjoying', 'enjoyment', 'enjoyments', 'enlarge', 'enlargement', 'enlightened', 'ennui', 'enormously', 'enough', 'enquire', 'enquired', 'enquiries', 'enquiring', 'enquiry', 'enraged', 'enrich', 'ensued', 'ensured', 'entanglement', 'enter', 'entered', 'entering', 'entertain', 'entertained', 'entertainment', 'enthusiasm', 'enthusiastic', 'entire', 'entirely', 'entitled', 'entrance', 'entreat', 'entreated', 'entreaties', 'entreaty', 'entrusted', 'entry', 'enumeration', 'environs', 'envy', 'equal', 'equality', 'equalled', 'equally', 'equals', 'ere', 'errand', 'erred', 'error', 'errors', 'escape', 'escaped', 'especially', 'essential', 'establish', 'established', 'establishing', 'establishment', 'estate', 'esteem', 'esteemed', 'esteeming', 'esteems', 'estimable', 'estimate', 'estimating', 'estimation', 'estranged', 'eternal', 'etiquette', 'even', 'evening', 'evenings', 'event', 'events', 'eventually', 'ever', 'everlasting', 'every', 'everybody', 'everything', 'evidence', 'evident', 'evidently', 'evil', 'evils', 'evince', 'exact', 'exactly', 'exactness', 'examination', 'examine', 'examined', 'examining', 'example', 'exceed', 'exceeded', 'exceeding', 'exceedingly', 'excellence', 'excellencies', 'excellent', 'except', 'excepting', 'excess', 'excessive', 'excessively', 'exchange', 'exchanged', 'excite', 'excited', 'exciting', 'exclaim', 'exclaimed', 'exclaiming', 'exclamation', 'exclamations', 'exclusively', 'excursion', 'excursive', 'excuse', 'excused', 'excuses', 'execution', 'exercise', 'exercised', 'exercising', 'exert', 'exerted', 'exertion', 'exertions', 'exhausted', 'exhilarated', 'exhilaration', 'exigence', 'exist', 'existed', 'existence', 'exorbitant', 'expand', 'expatiate', 'expect', 'expectation', 'expectations', 'expected', 'expecting', 'expects', 'expediency', 'expedient', 'expeditiously', 'expel', 'expense', 'expenses', 'expensive', 'expensiveness', 'experience', 'experienced', 'experiencing', 'explain', 'explained', 'explanation', 'explanations', 'explanatory', 'expose', 'exposed', 'express', 'expressed', 'expressing', 'expression', 'expressions', 'expressive', 'expressively', 'expressly', 'exquisite', 'extended', 'extending', 'extensive', 'extent', 'exterior', 'external', 'extinction', 'extinguished', 'extolling', 'extort', 'extorted', 'extorting', 'extraordinary', 'extravagance', 'extravagant', 'extreme', 'extremely', 'extremest', 'extremity', 'exuberance', 'exultation', 'exultingly', 'eye', 'eyed', 'eyeing', 'eyes', 'face', 'faces', 'fact', 'facts', 'faded', 'fail', 'failed', 'failing', 'failure', 'faint', 'fainter', 'fainting', 'faintness', 'fair', 'fairer', 'fairly', 'faith', 'faithful', 'faithfully', 'fall', 'fallen', 'falling', 'falls', 'false', 'falsehood', 'fame', 'familiar', 'familiarity', 'familiarized', 'familiarly', 'families', 'family', 'famous', 'fancied', 'fanciful', 'fancy', 'fancying', 'far', 'farewell', 'farm', 'farther', 'farthest', 'fascinating', 'fashion', 'fashionable', 'fashioned', 'fast', 'faster', 'fastidious', 'fat', 'fate', 'fates', 'father', 'fatigue', 'fatigued', 'fatigues', 'fatiguing', 'fault', 'faultless', 'faults', 'faulty', 'favour', 'favourable', 'favourite', 'favourites', 'fear', 'feared', 'fearful', 'fearing', 'fears', 'feather', 'feature', 'features', 'feeble', 'feebleness', 'feebly', 'feed', 'feeding', 'feel', 'feeling', 'feelingly', 'feelings', 'feels', 'feet', 'feigned', 'felicitations', 'felicity', 'fell', 'fellow', 'felt', 'female', 'females', 'feminine', 'fertile', 'fervent', 'festival', 'fetch', 'fetches', 'fetching', 'fettered', 'fever', 'feverish', 'few', 'fickle', 'field', 'fifteen', 'fifty', 'figure', 'filigree', 'fill', 'filled', 'final', 'finally', 'find', 'finding', 'finds', 'fine', 'finest', 'finger', 'fingers', 'finish', 'finished', 'finishing', 'fir', 'fire', 'firm', 'firmer', 'firmly', 'firmness', 'first', 'fish', 'fit', 'fitted', 'five', 'fix', 'fixed', 'fixing', 'flannel', 'flaring', 'flatter', 'flattered', 'flatteries', 'flattering', 'flattery', 'fled', 'flew', 'floor', 'flourish', 'flourishing', 'flow', 'flowed', 'flower', 'flowing', 'fluctuating', 'flushed', 'flutter', 'fly', 'foibles', 'folded', 'follow', 'followed', 'following', 'follows', 'folly', 'fond', 'fondly', 'fondness', 'food', 'fool', 'foolish', 'foolishly', 'foot', 'footman', 'footsteps', 'for', 'forbade', 'forbear', 'forbearance', 'forbid', 'forbidden', 'forbidding', 'forbore', 'force', 'forced', 'forcibly', 'forcing', 'forebodings', 'forego', 'foregoing', 'forenoon', 'foreplanned', 'foresaw', 'foresee', 'foreseeing', 'foreseen', 'foresight', 'foretell', 'foretold', 'forfeit', 'forfeited', 'forfeiting', 'forgave', 'forget', 'forgetting', 'forgive', 'forgiven', 'forgiveness', 'forgot', 'forgotten', 'forlorn', 'form', 'formal', 'formality', 'formally', 'formed', 'former', 'formerly', 'formidable', 'forming', 'forms', 'forsaking', 'forte', 'forth', 'fortitude', 'fortnight', 'fortunate', 'fortunately', 'fortune', 'fortunes', 'forty', 'forward', 'forwarded', 'forwarding', 'forwards', 'found', 'foundation', 'foundations', 'founded', 'four', 'fourteen', 'fourteenth', 'fourth', 'fowls', 'fox', 'frame', 'frank', 'frankness', 'frantic', 'free', 'freedom', 'freeze', 'frequency', 'frequent', 'frequently', 'fresh', 'fretful', 'fretted', 'friend', 'friendliest', 'friendliness', 'friendly', 'friends', 'friendship', 'fright', 'frighten', 'frightened', 'frightens', 'frightful', 'frivolous', 'froid', 'from', 'front', 'frost', 'frugality', 'fruit', 'fruitless', 'fulfil', 'fulfill', 'fulfilled', 'full', 'fullest', 'fully', 'funeral', 'furnished', 'furnishing', 'furniture', 'further', 'fury', 'fuss', 'future', 'gaiety', 'gaily', 'gain', 'gained', 'gaining', 'gales', 'gallantry', 'galling', 'gallop', 'game', 'gape', 'garden', 'gardener', 'garret', 'garrets', 'gate', 'gates', 'gathered', 'gathering', 'gave', 'gay', 'gaze', 'gazing', 'general', 'generally', 'generations', 'generosity', 'generous', 'generously', 'genial', 'genius', 'genteel', 'genteelly', 'gentility', 'gentle', 'gentleman', 'gentlemanlike', 'gentlemen', 'gentleness', 'gently', 'genuine', 'genuinely', 'get', 'getting', 'giddy', 'gift', 'giggling', 'gigs', 'girl', 'girls', 'give', 'given', 'gives', 'giving', 'glad', 'gladly', 'glance', 'glances', 'glass', 'glebe', 'glimpse', 'gloom', 'gloominess', 'gloomy', 'gloried', 'gloves', 'glow', 'glowing', 'go', 'goes', 'going', 'goings', 'gold', 'gone', 'good', 'goodby', 'goodness', 'goodwill', 'gossip', 'got', 'gout', 'govern', 'governed', 'governing', 'gown', 'gowns', 'grace', 'graceful', 'gracefulness', 'graces', 'gracious', 'graciousness', 'gradually', 'grand', 'grandeur', 'grandmothers', 'granted', 'grass', 'grate', 'grateful', 'gratefully', 'gratification', 'gratify', 'gratifying', 'gratitude', 'grave', 'gravel', 'gravely', 'gravity', 'great', 'greater', 'greatest', 'greatly', 'greatness', 'green', 'grew', 'grey', 'grief', 'grievance', 'grieve', 'grieved', 'grieves', 'grieving', 'grievous', 'groom', 'gross', 'ground', 'grounded', 'grounds', 'group', 'growing', 'grown', 'grows', 'grudge', 'guard', 'guarded', 'guardian', 'guardians', 'guardianship', 'guarding', 'guess', 'guessed', 'guessing', 'guest', 'guests', 'guidance', 'guide', 'guided', 'guilt', 'guilty', 'guineas', 'gum', 'gun', 'habit', 'habitation', 'habits', 'habitual', 'hackneyed', 'had', 'hair', 'half', 'hall', 'hallooing', 'halves', 'ham', 'hand', 'handed', 'handkerchief', 'handle', 'hands', 'handsome', 'handsomely', 'handsomer', 'handsomest', 'hang', 'hanging', 'happen', 'happened', 'happening', 'happens', 'happier', 'happiest', 'happily', 'happiness', 'happy', 'harbour', 'hard', 'hardened', 'hardening', 'hardily', 'hardly', 'hardness', 'hardship', 'hardships', 'harm', 'harmless', 'harmony', 'harp', 'harshly', 'hartshorn', 'has', 'haste', 'hastened', 'hastening', 'hastily', 'hasty', 'hat', 'hate', 'hated', 'hateful', 'hates', 'hating', 'haughty', 'hauteur', 'have', 'having', 'hazard', 'hazarded', 'hazarding', 'hazy', 'he', 'head', 'headache', 'headed', 'heads', 'headstrong', 'healing', 'health', 'healthful', 'healthy', 'hear', 'heard', 'hearer', 'hearing', 'hears', 'heart', 'hearted', 'heartily', 'heartiness', 'hearts', 'hearty', 'heat', 'heath', 'heaven', 'heavens', 'heavily', 'heavy', 'height', 'heighten', 'heightened', 'heightening', 'heights', 'heir', 'heirs', 'held', 'help', 'helping', 'helpless', 'helpmate', 'hence', 'henceforth', 'henceforward', 'hens', 'her', 'here', 'hereafter', 'hero', 'heroically', 'heroism', 'hers', 'herself', 'hesitated', 'hesitatingly', 'hesitation', 'hiding', 'high', 'higher', 'highest', 'highly', 'hilarity', 'hill', 'hills', 'him', 'himself', 'hinder', 'hindrance', 'hint', 'hinted', 'hints', 'his', 'history', 'hit', 'hither', 'hitherto', 'ho', 'hoarded', 'hold', 'holding', 'holds', 'holidays', 'hollow', 'home', 'homes', 'honest', 'honestly', 'honesty', 'honeysuckles', 'honor', 'honorable', 'honorably', 'honour', 'honourable', 'honourably', 'honoured', 'honours', 'hop', 'hope', 'hoped', 'hopeless', 'hopes', 'hoping', 'horizon', 'horrible', 'horrid', 'horridly', 'horror', 'horrors', 'horse', 'horseback', 'horses', 'hospitable', 'hospitality', 'hostess', 'hostile', 'hot', 'hour', 'hours', 'house', 'household', 'housekeeper', 'housekeeping', 'housemaid', 'houses', 'how', 'however', 'howsever', 'hue', 'human', 'humanity', 'humble', 'humbled', 'humiliating', 'humiliations', 'humility', 'humored', 'humour', 'humoured', 'humouring', 'hundred', 'hung', 'hunt', 'hunted', 'hunters', 'hunts', 'hurried', 'hurry', 'hurrying', 'hurt', 'husband', 'husbands', 'hussy', 'huswifes', 'hysterical', 'hysterics', 'ice', 'idea', 'ideas', 'identify', 'idle', 'idled', 'idleness', 'idolized', 'if', 'ignorance', 'ignorant', 'ill', 'illaudable', 'illiberal', 'illiterate', 'illness', 'illusion', 'illustration', 'image', 'imagery', 'imaginable', 'imaginary', 'imagination', 'imaginations', 'imagine', 'imagined', 'imagining', 'imbibed', 'imitate', 'immediate', 'immediately', 'imminent', 'immoderately', 'immovable', 'immoveable', 'imparted', 'impartial', 'impartiality', 'impatience', 'impatient', 'impatiently', 'impediment', 'impenetrable', 'imperfect', 'imperfection', 'imperfections', 'imperfectly', 'impertinence', 'impertinent', 'impertinently', 'impetuous', 'implied', 'implies', 'imply', 'impolitic', 'importance', 'important', 'importunate', 'importunity', 'impose', 'impossibility', 'impossible', 'impoverished', 'impoverishing', 'impracticable', 'impression', 'imprint', 'improperly', 'impropriety', 'improve', 'improved', 'improvement', 'improvements', 'improvident', 'improving', 'imprudence', 'imprudent', 'imprudently', 'impudence', 'impudently', 'impulse', 'imputed', 'in', 'inadvertence', 'inarticulate', 'inattention', 'inattentive', 'incapable', 'incautiousness', 'incessant', 'incessantly', 'inch', 'incitement', 'incivility', 'inclination', 'inclinations', 'inclined', 'inclosing', 'included', 'including', 'incoherently', 'income', 'incommode', 'incommoded', 'incompatible', 'incomprehensible', 'inconsiderable', 'inconsiderately', 'inconsistency', 'inconsolable', 'inconstancy', 'inconstant', 'inconvenience', 'inconveniences', 'inconvenient', 'increase', 'increased', 'increasing', 'incredulity', 'incumbent', 'incurable', 'incurred', 'incurring', 'indecision', 'indecorous', 'indeed', 'indefatigable', 'indelicacy', 'independence', 'independent', 'independently', 'indication', 'indifference', 'indifferent', 'indigence', 'indignant', 'indignantly', 'indignation', 'indignity', 'indispensable', 'indispensably', 'indisposed', 'indisposition', 'indisputable', 'indistinct', 'individual', 'indolence', 'indolent', 'indubitable', 'induce', 'induced', 'inducement', 'indulge', 'indulged', 'indulgence', 'indulgent', 'indulging', 'ineffectual', 'inelegant', 'ineligible', 'inevitable', 'inevitably', 'inexcusable', 'inexperience', 'inexperienced', 'infamous', 'infamously', 'infancy', 'infant', 'infants', 'infatuation', 'infection', 'infer', 'inferior', 'inferiority', 'infinitely', 'infirm', 'infirmity', 'inflict', 'inflicted', 'inflicting', 'influence', 'influenced', 'inforce', 'inforced', 'inform', 'information', 'informed', 'informing', 'ingenious', 'ingenuity', 'ingratiating', 'ingratitude', 'inhabit', 'inhabitants', 'inhabited', 'inhabiting', 'inherit', 'inheriting', 'inheritor', 'injunction', 'injure', 'injured', 'injuries', 'injury', 'injustice', 'inn', 'innate', 'inner', 'innocence', 'innocent', 'innumerable', 'inquietude', 'inquire', 'inquired', 'inquiries', 'inquiring', 'inquiry', 'inquisitive', 'inquisitiveness', 'insensibility', 'insensible', 'insignificance', 'insincere', 'insincerity', 'insinuations', 'insipid', 'insipidity', 'insist', 'insisted', 'insolence', 'insolent', 'inspect', 'inspection', 'inspire', 'inspired', 'inspiring', 'installed', 'instance', 'instant', 'instantaneous', 'instantaneously', 'instantly', 'instead', 'instigated', 'instigation', 'instruction', 'instructions', 'instrument', 'insufferably', 'insufficiency', 'insufficient', 'insult', 'insulted', 'insulting', 'insured', 'insurmountable', 'integrity', 'intelligence', 'intelligent', 'intelligible', 'intend', 'intended', 'intending', 'intends', 'intent', 'intention', 'intentionally', 'intentions', 'intents', 'intercourse', 'interest', 'interested', 'interesting', 'interests', 'interfere', 'interference', 'interfering', 'interim', 'intermission', 'internally', 'interposed', 'interrupt', 'interrupted', 'interrupting', 'interruption', 'interspersed', 'interval', 'intervals', 'interview', 'interviews', 'intimacy', 'intimate', 'intimated', 'intimately', 'into', 'intoxication', 'intreat', 'intrinsically', 'introduce', 'introduced', 'introducing', 'introduction', 'intruded', 'intruder', 'intruding', 'intrusion', 'intuitively', 'invalid', 'invaluable', 'invariable', 'invariably', 'invent', 'invented', 'inventing', 'invention', 'inventive', 'investigation', 'invitation', 'invitations', 'invite', 'invited', 'inviting', 'involuntarily', 'involuntary', 'involve', 'involved', 'irksome', 'irrational', 'irreconcilable', 'irregular', 'irremediable', 'irreparable', 'irrepressible', 'irreproachable', 'irresistible', 'irresolute', 'irritability', 'irritable', 'irritated', 'irritates', 'irritation', 'is', 'issued', 'it', 'its', 'itself', 'ivory', 'jacket', 'jargon', 'jealous', 'jealousies', 'jealousy', 'jest', 'jewels', 'jilting', 'join', 'joined', 'joining', 'joint', 'jointure', 'joke', 'joked', 'jokes', 'joking', 'journey', 'joy', 'joyful', 'joyfully', 'joys', 'judge', 'judged', 'judging', 'judgment', 'judgments', 'judicious', 'judiciously', 'jumbled', 'just', 'justice', 'justification', 'justified', 'justify', 'justifying', 'justly', 'juvenile', 'keen', 'keep', 'keeping', 'keeps', 'kept', 'keys', 'kicked', 'kill', 'kind', 'kinder', 'kindest', 'kindly', 'kindness', 'kingdom', 'kiss', 'kissed', 'kisses', 'kitchen', 'knack', 'knave', 'kneeling', 'knees', 'knew', 'knives', 'knocking', 'knoll', 'know', 'knowing', 'knowledge', 'known', 'knows', 'la', 'labor', 'labour', 'laboured', 'ladies', 'lady', 'ladyship', 'laid', 'lain', 'lament', 'lamentation', 'lamentations', 'lamenting', 'lamps', 'land', 'landing', 'landlord', 'landscape', 'lane', 'lanes', 'language', 'languages', 'languid', 'lap', 'large', 'larger', 'largest', 'last', 'lasted', 'lasting', 'lastingly', 'late', 'lately', 'later', 'latest', 'latter', 'laudable', 'laugh', 'laughed', 'laughing', 'laughs', 'laughter', 'lavender', 'law', 'lawn', 'lawyer', 'lay', 'laying', 'lead', 'leading', 'leaf', 'leagued', 'leaning', 'leant', 'learn', 'learned', 'learning', 'learnt', 'least', 'leave', 'leaves', 'leaving', 'lecture', 'led', 'left', 'legacies', 'legacy', 'legal', 'leisure', 'leisurely', 'length', 'lengthened', 'lengths', 'less', 'lessen', 'lessened', 'lessening', 'lesser', 'lesson', 'lest', 'let', 'letter', 'letters', 'letting', 'liable', 'liberal', 'liberality', 'libertine', 'liberty', 'library', 'lie', 'lief', 'lies', 'life', 'lifted', 'lifting', 'light', 'lightened', 'lighter', 'lightly', 'like', 'liked', 'likelihood', 'likely', 'likeness', 'likes', 'likewise', 'liking', 'limbs', 'limited', 'limits', 'line', 'linen', 'lines', 'linger', 'lingered', 'lingering', 'lip', 'lips', 'liquor', 'listen', 'listened', 'listener', 'listening', 'lit', 'literature', 'little', 'live', 'lived', 'liveliness', 'lively', 'lives', 'living', 'livings', 'll', 'lobby', 'local', 'lock', 'lodges', 'lodging', 'lodgings', 'loitered', 'long', 'longed', 'longer', 'longest', 'look', 'looked', 'looking', 'looks', 'loose', 'lose', 'losing', 'loss', 'lost', 'lot', 'loud', 'lounging', 'love', 'loved', 'lovely', 'lover', 'lovers', 'loves', 'loving', 'low', 'lower', 'lowered', 'lowering', 'lowness', 'luck', 'luckily', 'lucky', 'lurking', 'lustily', 'luxurious', 'luxury', 'lying', 'm', 'ma', 'madam', 'made', 'madness', 'magnanimity', 'magnificent', 'maid', 'maids', 'maintained', 'maintenance', 'make', 'makes', 'making', 'malady', 'malevolence', 'malice', 'malignant', 'mama', 'man', 'manage', 'managed', 'management', 'manager', 'mankind', 'manly', 'manner', 'manners', 'manor', 'mansion', 'mantel', 'mantelpiece', 'many', 'mare', 'mark', 'marked', 'marking', 'marmalade', 'marriage', 'marriages', 'married', 'marries', 'marry', 'marrying', 'mass', 'match', 'material', 'materially', 'maternal', 'matrimony', 'matter', 'matters', 'maxim', 'maxims', 'may', 'me', 'meadows', 'meal', 'meals', 'mean', 'meaning', 'meanness', 'means', 'meant', 'meantime', 'meanwhile', 'measure', 'measured', 'measures', 'measuring', 'meat', 'mechanically', 'mediation', 'medicine', 'medicines', 'meditated', 'meditation', 'meditations', 'medium', 'meet', 'meeting', 'meetings', 'melancholy', 'memento', 'memorable', 'memory', 'men', 'mend', 'mental', 'mention', 'mentioned', 'mentioning', 'mercy', 'mere', 'merely', 'merest', 'merit', 'merited', 'meritorious', 'merits', 'merrier', 'merriment', 'merry', 'message', 'messages', 'messenger', 'met', 'metaphor', 'method', 'middle', 'midst', 'might', 'mighty', 'mild', 'mildness', 'mile', 'miles', 'militate', 'militated', 'mind', 'minded', 'mindful', 'minds', 'mine', 'mingle', 'miniature', 'minor', 'minute', 'minutely', 'minuteness', 'minuter', 'minutes', 'minutiae', 'miracle', 'mirth', 'misapplied', 'misapprehension', 'mischievous', 'misconduct', 'misconstruction', 'miserable', 'misery', 'misfortune', 'misinformed', 'misled', 'miss', 'missed', 'mistake', 'mistaken', 'mistakes', 'mistress', 'mistrust', 'misunderstood', 'mix', 'mixing', 'moan', 'mode', 'moderate', 'moderation', 'modern', 'modest', 'modestest', 'modesty', 'mohrs', 'moiety', 'moment', 'momentary', 'moments', 'money', 'monkey', 'monopolize', 'monstrous', 'month', 'months', 'mood', 'moonlight', 'morality', 'more', 'moreover', 'morning', 'mornings', 'morrow', 'mortification', 'mortified', 'mortify', 'mortifying', 'mosquitoes', 'moss', 'most', 'mother', 'motherly', 'mothers', 'motion', 'motionless', 'motive', 'motives', 'mound', 'mountain', 'mounted', 'mourning', 'mouth', 'move', 'moved', 'moving', 'much', 'muff', 'mulberry', 'murmurings', 'music', 'musical', 'muslin', 'must', 'muttered', 'mutton', 'mutual', 'mutually', 'my', 'myself', 'mysterious', 'mysteriously', 'mystery', 'nabobs', 'name', 'named', 'nameless', 'names', 'naming', 'narration', 'narrator', 'narrow', 'narrowly', 'nasty', 'natural', 'naturally', 'nature', 'natured', 'navy', 'nay', 'near', 'nearer', 'nearest', 'nearly', 'neat', 'necessarily', 'necessary', 'necessitous', 'necessity', 'neck', 'need', 'needed', 'needle', 'needless', 'negative', 'neglect', 'neglected', 'negligence', 'negligent', 'negotiation', 'neighbour', 'neighbourhood', 'neighbouring', 'neighbourly', 'neighbours', 'neither', 'nephew', 'nerve', 'nerves', 'nervous', 'nests', 'nettles', 'never', 'new', 'newer', 'newly', 'newness', 'news', 'newspaper', 'newspapers', 'next', 'nice', 'nicest', 'nicety', 'niece', 'nieces', 'niggardly', 'night', 'nights', 'nine', 'nineteen', 'ninny', 'nipped', 'no', 'noble', 'nobleman', 'nobly', 'nobody', 'nodded', 'nodding', 'nods', 'noise', 'noisier', 'noisy', 'nominal', 'none', 'nonsense', 'nonsensical', 'noon', 'nor', 'northward', 'not', 'note', 'notes', 'nothing', 'notice', 'noticed', 'noticing', 'notion', 'notions', 'nought', 'nourishment', 'novel', 'novelty', 'now', 'nt', 'nuisance', 'number', 'numerous', 'nuncheon', 'nurse', 'nurses', 'nursing', 'o', 'oath', 'obedient', 'obey', 'obeyed', 'object', 'objected', 'objection', 'objections', 'objects', 'obligation', 'obligations', 'oblige', 'obliged', 'obliging', 'obligingly', 'observable', 'observant', 'observation', 'observations', 'observe', 'observed', 'observer', 'observing', 'obstacle', 'obstacles', 'obstinacy', 'obstinate', 'obstructed', 'obtain', 'obtained', 'obtaining', 'obviated', 'obviating', 'occasion', 'occasional', 'occasionally', 'occasioned', 'occasions', 'occupation', 'occupations', 'occupied', 'occupy', 'occur', 'occurred', 'occurrence', 'odd', 'oddest', 'odious', 'of', 'off', 'offence', 'offences', 'offend', 'offended', 'offending', 'offer', 'offered', 'offering', 'office', 'offices', 'officious', 'officiously', 'offspring', 'often', 'oftener', 'oftenest', 'oh', 'old', 'older', 'oldest', 'olives', 'omitted', 'on', 'once', 'one', 'ones', 'oneself', 'only', 'open', 'opened', 'opening', 'openly', 'openness', 'opera', 'opinion', 'opinions', 'opportunities', 'opportunity', 'oppose', 'opposed', 'opposite', 'opposition', 'oppressed', 'oppression', 'option', 'or', 'orator', 'ordained', 'order', 'ordered', 'orders', 'ordinary', 'ordination', 'origin', 'original', 'originated', 'ornament', 'ornamented', 'ornaments', 'orphan', 'other', 'others', 'otherwise', 'ought', 'our', 'ours', 'ourselves', 'out', 'outdone', 'outgrown', 'outlived', 'outraged', 'outrun', 'outside', 'outstaid', 'outstretched', 'outstripped', 'outward', 'outwardly', 'outweigh', 'outweighs', 'over', 'overcame', 'overcome', 'overcoming', 'overheard', 'overlook', 'overlooked', 'overpowered', 'overpowering', 'overspreading', 'overstrained', 'owe', 'owed', 'own', 'owned', 'owner', 'owners', 'owning', 'pace', 'paces', 'pacified', 'packages', 'packed', 'page', 'pages', 'paid', 'pain', 'pained', 'painful', 'painfully', 'pains', 'paint', 'painted', 'painter', 'painting', 'pair', 'palanquins', 'pale', 'paleness', 'palm', 'pang', 'pangs', 'panting', 'paper', 'papers', 'paragraph', 'parcels', 'pardon', 'pardonable', 'parent', 'parents', 'parish', 'park', 'parliament', 'parlors', 'parlour', 'parsonage', 'part', 'parted', 'partial', 'partiality', 'particular', 'particularity', 'particularly', 'particulars', 'parties', 'parting', 'partly', 'partners', 'partook', 'parts', 'party', 'pass', 'passage', 'passages', 'passed', 'passing', 'passion', 'passionate', 'passionately', 'passions', 'past', 'pasturage', 'pasture', 'patches', 'path', 'patience', 'patient', 'patron', 'patronage', 'patroness', 'patronised', 'pattern', 'patterns', 'pause', 'paused', 'pausing', 'pay', 'paying', 'payment', 'peace', 'pearls', 'peculiar', 'peculiarly', 'pecuniary', 'pen', 'pencil', 'penetrate', 'penetration', 'penitence', 'penitent', 'penny', 'penury', 'people', 'per', 'perceive', 'perceived', 'perceiving', 'perceptible', 'perfect', 'perfection', 'perfections', 'perfectly', 'perform', 'performance', 'performances', 'performed', 'performers', 'performing', 'perhaps', 'period', 'permission', 'permit', 'permitted', 'permitting', 'perpetual', 'perplexed', 'perplexity', 'persecution', 'persecutions', 'perseverance', 'persevered', 'persevering', 'persisted', 'persisting', 'person', 'personal', 'personally', 'persons', 'persuade', 'persuaded', 'persuading', 'persuasion', 'perturbation', 'perusal', 'perverseness', 'petty', 'philanthropic', 'philippic', 'philosophic', 'philosophy', 'phrase', 'piano', 'pianoforte', 'picture', 'pictured', 'pictures', 'picturesque', 'piece', 'pieces', 'pillow', 'pimples', 'pin', 'pinching', 'pink', 'pint', 'pique', 'piqued', 'piquet', 'pitch', 'pitched', 'pitiable', 'pitied', 'pity', 'pitying', 'place', 'placed', 'placing', 'plague', 'plagued', 'plaguing', 'plain', 'plainly', 'plait', 'plan', 'planning', 'plans', 'plantation', 'plantations', 'plants', 'plate', 'play', 'played', 'playfellows', 'playful', 'playfulness', 'playing', 'playthings', 'plea', 'plead', 'pleasant', 'pleasanter', 'pleasantest', 'pleasantly', 'pleasantness', 'please', 'pleased', 'pleasing', 'pleasure', 'pleasures', 'plenty', 'plighted', 'plump', 'plums', 'pocket', 'pocketbook', 'poignant', 'point', 'pointed', 'pointedly', 'pointer', 'pointers', 'pointing', 'points', 'poking', 'policy', 'polished', 'polite', 'politely', 'politeness', 'political', 'politics', 'ponds', 'poor', 'poorly', 'poplars', 'popt', 'porter', 'portion', 'portrait', 'position', 'positive', 'positively', 'possess', 'possessed', 'possesses', 'possessing', 'possession', 'possessions', 'possessor', 'possibility', 'possible', 'possibly', 'post', 'postponing', 'posts', 'posture', 'potent', 'poultry', 'pounds', 'pour', 'poured', 'poverty', 'power', 'powered', 'powerful', 'powerfully', 'powers', 'practicable', 'practice', 'practiced', 'practices', 'practise', 'practised', 'praise', 'praised', 'praises', 'pray', 'prayers', 'pre', 'precaution', 'preceded', 'preceding', 'precious', 'precise', 'precisely', 'precision', 'prefer', 'preferable', 'preference', 'preferment', 'preferred', 'preferring', 'prejudice', 'prejudiced', 'prejudices', 'premeditated', 'premises', 'prenticed', 'preparation', 'preparations', 'prepare', 'prepared', 'preparing', 'prepossessed', 'prepossessing', 'prepossession', 'prescience', 'prescribed', 'presence', 'present', 'presentation', 'presented', 'presenting', 'presently', 'presents', 'preserve', 'preserved', 'preserver', 'presided', 'press', 'pressed', 'pressing', 'presume', 'presumed', 'pretence', 'pretend', 'pretended', 'pretends', 'pretensions', 'pretext', 'prettier', 'prettiest', 'prettily', 'pretty', 'prevail', 'prevailed', 'prevailing', 'prevent', 'prevented', 'previous', 'previously', 'preyed', 'price', 'pride', 'principal', 'principally', 'principle', 'principles', 'print', 'prior', 'privacy', 'private', 'privately', 'privilege', 'probabilities', 'probability', 'probable', 'probably', 'proceed', 'proceeded', 'proclaim', 'proclaimed', 'proclaiming', 'procure', 'procured', 'procuring', 'prodigious', 'prodigiously', 'produce', 'produced', 'producing', 'production', 'productive', 'profess', 'professed', 'professedly', 'profession', 'professions', 'profited', 'profiting', 'progress', 'prohibited', 'project', 'projecting', 'projection', 'projects', 'promise', 'promised', 'promises', 'promising', 'promontories', 'promote', 'promoted', 'promoting', 'promotion', 'prompted', 'promptitude', 'pronounce', 'pronounced', 'pronouncing', 'proof', 'proofs', 'propensities', 'propensity', 'proper', 'properly', 'property', 'prophecies', 'proportion', 'proportionately', 'proportioned', 'proposal', 'proposals', 'propose', 'proposed', 'proposition', 'proprietor', 'propriety', 'prose', 'prosecution', 'prospect', 'prospects', 'prosperity', 'prosperous', 'prosperously', 'protect', 'protection', 'protege', 'protest', 'protestations', 'protested', 'proud', 'prove', 'proved', 'provide', 'provided', 'provident', 'providing', 'provision', 'provisions', 'provocation', 'provoke', 'provoked', 'provoking', 'prudence', 'prudent', 'prudently', 'pry', 'public', 'publication', 'publishing', 'pull', 'pulled', 'pulse', 'punctual', 'punctuality', 'punish', 'punishment', 'pupil', 'puppies', 'puppy', 'puppyism', 'purchase', 'purchases', 'pure', 'purity', 'purpose', 'purposely', 'purposes', 'purse', 'pursue', 'pursued', 'pursuing', 'pursuit', 'pursuits', 'put', 'putrid', 'puts', 'putting', 'puzzle', 'puzzled', 'qualification', 'qualifications', 'qualified', 'quarrel', 'quarrelled', 'quarrelling', 'quarter', 'quarters', 'quest', 'question', 'questions', 'quick', 'quickened', 'quicker', 'quickest', 'quickly', 'quiet', 'quieted', 'quietly', 'quietness', 'quit', 'quite', 'quitted', 'quitting', 'quivered', 'rage', 'raillery', 'rain', 'rained', 'raise', 'raised', 'raises', 'raising', 'rambles', 'ran', 'ranging', 'rank', 'ranked', 'rap', 'rapacious', 'rapid', 'rapidity', 'rapidly', 'rapture', 'raptures', 'rapturous', 'rapturously', 'rare', 'rascal', 'rascally', 'rash', 'rate', 'rated', 'rather', 'rational', 'rationally', 're', 'reach', 'reached', 'reaching', 'read', 'readily', 'readiness', 'reading', 'ready', 'real', 'reality', 'really', 'reanimate', 'reaped', 'reason', 'reasonable', 'reasonableness', 'reasonably', 'reasoning', 'reasonings', 'reasons', 'recall', 'recalled', 'receipt', 'receive', 'received', 'receiving', 'recent', 'recently', 'reception', 'reciprocal', 'recital', 'reckoned', 'reckons', 'reclaim', 'reclining', 'recognised', 'recognition', 'recollect', 'recollected', 'recollecting', 'recollection', 'recommend', 'recommendation', 'recommended', 'recommending', 'reconcile', 'reconciled', 'reconciliation', 'reconsider', 'recover', 'recovered', 'recovering', 'recovery', 'recreating', 'rectitude', 'rectory', 'recurred', 'recurrence', 'red', 'redeem', 'reduced', 'referred', 'referring', 'refinement', 'refinements', 'reflect', 'reflected', 'reflecting', 'reflection', 'reflections', 'reform', 'reformed', 'refrain', 'refreshed', 'refreshment', 'refreshments', 'refusal', 'refuse', 'refused', 'refusing', 'regain', 'regard', 'regarded', 'regarding', 'regards', 'regiment', 'regret', 'regrets', 'regretted', 'regretting', 'regular', 'regularity', 'regulate', 'regulated', 'rejected', 'rejoice', 'rejoiced', 'rejoicing', 'relapse', 'relate', 'related', 'relating', 'relation', 'relations', 'relationship', 'relative', 'relatives', 'release', 'released', 'relent', 'reliance', 'relics', 'relied', 'relief', 'relieve', 'relieved', 'religion', 'relinquished', 'relish', 'reluctance', 'reluctantly', 'relying', 'remain', 'remainder', 'remained', 'remaining', 'remains', 'remark', 'remarkable', 'remarkably', 'remarks', 'remedies', 'remedy', 'remember', 'remembered', 'remembering', 'remembers', 'remembrance', 'remembrances', 'remind', 'reminded', 'reminding', 'reminds', 'remorse', 'removal', 'remove', 'removed', 'removes', 'removing', 'render', 'rendered', 'rendering', 'renewal', 'renewed', 'renewing', 'renounced', 'rent', 'repaid', 'repair', 'repaired', 'reparation', 'repeat', 'repeated', 'repeatedly', 'repeating', 'repent', 'repentance', 'repetition', 'repine', 'repining', 'replace', 'replied', 'reply', 'replying', 'report', 'reports', 'repose', 'represent', 'representation', 'representations', 'represented', 'representing', 'repressed', 'reprimand', 'reproach', 'reproached', 'reproaches', 'reproachfully', 'reproaching', 'reprobate', 'reproof', 'reproved', 'reproving', 'repulsed', 'repulsive', 'reputation', 'request', 'requested', 'requesting', 'require', 'required', 'requires', 'requiring', 'requisite', 'rescued', 'reseated', 'resemblance', 'resembled', 'resembling', 'resented', 'resentment', 'reserve', 'reserved', 'reservedness', 'resettled', 'reside', 'resided', 'residence', 'residing', 'residue', 'resigned', 'resist', 'resistance', 'resisted', 'resisting', 'resists', 'resolute', 'resolutely', 'resolution', 'resolve', 'resolved', 'resolving', 'resorted', 'resources', 'respect', 'respectability', 'respectable', 'respectably', 'respected', 'respectful', 'respectfully', 'respecting', 'respective', 'respects', 'rest', 'rested', 'restless', 'restorative', 'restore', 'restored', 'restoring', 'restrain', 'restrained', 'restraint', 'restraints', 'restriction', 'result', 'resume', 'resumed', 'resuscitation', 'retailed', 'retain', 'retained', 'retarded', 'retired', 'retirement', 'retort', 'retreat', 'retreated', 'retreating', 'retrenched', 'return', 'returned', 'returning', 'revealed', 'revealment', 'revenge', 'reverie', 'reverse', 'reverted', 'revival', 'revive', 'revived', 'reviving', 'reward', 'rewarded', 'rheumatic', 'rheumatism', 'rheumatisms', 'ribbons', 'rich', 'richer', 'riches', 'rid', 'ride', 'rider', 'ridge', 'ridicule', 'ridiculous', 'riding', 'right', 'rightly', 'ring', 'ringing', 'rings', 'rise', 'risen', 'rises', 'rising', 'risk', 'risking', 'rival', 'rivals', 'road', 'roads', 'roared', 'rob', 'robbed', 'robbing', 'rocks', 'rolling', 'romance', 'romantic', 'roof', 'room', 'rooms', 'rooted', 'rose', 'round', 'rouse', 'roused', 'rousing', 'rub', 'rubber', 'rude', 'rug', 'rugged', 'ruin', 'ruined', 'ruins', 'ruling', 'rumour', 'run', 'rung', 'running', 'rupture', 'rushed', 'rushing', 's', 'sacred', 'sacrifice', 'sacrificed', 'sacrificing', 'sad', 'sadly', 'sadness', 'safe', 'safeguard', 'safely', 'safety', 'sagaciously', 'sagacity', 'said', 'sail', 'saint', 'sake', 'sakes', 'sale', 'sallow', 'salmon', 'saloon', 'salts', 'salutation', 'same', 'sang', 'sanguine', 'sashes', 'sat', 'satirical', 'satisfaction', 'satisfactory', 'satisfied', 'satisfy', 'satisfying', 'saucy', 'sauntered', 'save', 'saved', 'saves', 'savings', 'saw', 'say', 'saying', 'says', 'scale', 'scanty', 'scarcely', 'scattered', 'scene', 'scenery', 'scenes', 'scheme', 'schemes', 'school', 'scissors', 'scold', 'scolded', 'score', 'scorn', 'scornfully', 'scorning', 'scoundrel', 'scrape', 'scratch', 'scratching', 'scrawls', 'screamed', 'screams', 'screen', 'screened', 'screens', 'scruple', 'scrupled', 'scruples', 'scrupling', 'scrupulous', 'scrutinies', 'seal', 'sealed', 'search', 'searched', 'season', 'seasons', 'seat', 'seated', 'seating', 'seats', 'seclude', 'seclusion', 'second', 'seconded', 'seconds', 'secrecy', 'secret', 'secretly', 'secrets', 'secure', 'secured', 'secures', 'securing', 'security', 'sedateness', 'seduced', 'seducer', 'seduction', 'sedulously', 'see', 'seeing', 'seek', 'seeking', 'seem', 'seemed', 'seeming', 'seems', 'seen', 'seized', 'seizure', 'seldom', 'self', 'selfish', 'selfishness', 'sell', 'sellers', 'send', 'sending', 'sends', 'sensation', 'sensations', 'sense', 'senses', 'sensibility', 'sensible', 'sensibly', 'sensitive', 'sent', 'sentence', 'sentences', 'sentiment', 'sentiments', 'separate', 'separated', 'separately', 'separation', 'separations', 'series', 'serious', 'seriously', 'servant', 'servants', 'serve', 'served', 'service', 'services', 'servilely', 'set', 'setting', 'settle', 'settled', 'settling', 'seven', 'seventeen', 'several', 'severe', 'severely', 'severity', 'sex', 'sha', 'shade', 'shades', 'shake', 'shaken', 'shall', 'shame', 'shamefully', 'shameless', 'shan', 'shape', 'share', 'shared', 'sharing', 'sharp', 'she', 'sheath', 'shed', 'shedding', 'sheet', 'shelter', 'shew', 'shewed', 'shewing', 'shewn', 'shews', 'shield', 'shift', 'shillings', 'shivering', 'shock', 'shocked', 'shocking', 'shoes', 'shook', 'shooting', 'shop', 'shops', 'short', 'shorten', 'shortly', 'shortness', 'shot', 'should', 'shoulder', 'shoulders', 'show', 'showed', 'showers', 'showery', 'showing', 'shown', 'shrewd', 'shrubberies', 'shrubbery', 'shrugging', 'shuddering', 'shuffling', 'shut', 'shutter', 'shutters', 'shutting', 'shy', 'shyness', 'sick', 'sickly', 'sickness', 'side', 'sides', 'sigh', 'sighed', 'sighing', 'sight', 'sighted', 'sign', 'significancy', 'significant', 'significantly', 'signify', 'signs', 'silence', 'silenced', 'silencing', 'silent', 'silently', 'silk', 'silks', 'silly', 'similar', 'similarity', 'simpered', 'simpering', 'simple', 'simplest', 'simplicity', 'simply', 'sin', 'since', 'sincere', 'sincerely', 'sincerity', 'sing', 'singing', 'single', 'singly', 'sink', 'sir', 'sister', 'sisterly', 'sisters', 'sit', 'sitting', 'situated', 'situation', 'situations', 'six', 'sixpence', 'sixteen', 'size', 'sketch', 'skin', 'sky', 'sleep', 'sleepless', 'slept', 'slight', 'slighted', 'slighter', 'slightest', 'slighting', 'slightingly', 'slightly', 'slope', 'sloping', 'slow', 'slowly', 'slumber', 'sly', 'slyly', 'small', 'smaller', 'smallest', 'smallness', 'smart', 'smartness', 'smile', 'smiled', 'smiles', 'smiling', 'smirked', 'smitten', 'smokes', 'smooth', 'smoothly', 'sneer', 'snug', 'so', 'sobbed', 'sober', 'sobered', 'sobs', 'sociable', 'society', 'sofa', 'soft', 'soften', 'softened', 'softener', 'sold', 'soldier', 'sole', 'solely', 'solemn', 'solemnity', 'solemnly', 'solicitation', 'solicitations', 'solicitous', 'solicitude', 'solid', 'solidly', 'solitary', 'solitude', 'some', 'somebody', 'somehow', 'something', 'sometime', 'sometimes', 'somewhat', 'somewhere', 'son', 'song', 'songs', 'sons', 'soon', 'sooner', 'sooth', 'soothe', 'soothing', 'soothings', 'sore', 'sorrow', 'sorrowful', 'sorrows', 'sorry', 'sort', 'sought', 'soul', 'souls', 'sound', 'sounds', 'source', 'sources', 'soured', 'sourness', 'south', 'space', 'spacious', 'spare', 'spared', 'sparkling', 'spasm', 'speak', 'speaking', 'speaks', 'species', 'specimen', 'speculation', 'speculative', 'speech', 'speed', 'speedily', 'speedy', 'spend', 'spending', 'spends', 'spent', 'spirit', 'spirited', 'spiritless', 'spirits', 'spite', 'splendidly', 'spoil', 'spoiling', 'spoilt', 'spoke', 'spoken', 'spontaneous', 'sport', 'sporting', 'sportsman', 'sportsmen', 'spot', 'spotted', 'sprained', 'spraining', 'spread', 'spreading', 'spring', 'sprung', 'spunging', 'spurned', 'square', 'stable', 'stage', 'staid', 'staircase', 'stairs', 'stake', 'stammered', 'stand', 'standard', 'standing', 'stare', 'stared', 'stares', 'start', 'started', 'starting', 'startled', 'starved', 'state', 'stated', 'statement', 'stating', 'station', 'stationer', 'stay', 'stayed', 'staying', 'steadfast', 'steadier', 'steadily', 'steadiness', 'steady', 'stealing', 'steep', 'steepest', 'step', 'stepped', 'stepping', 'steps', 'sterling', 'stew', 'steward', 'stiffly', 'still', 'stimulated', 'sting', 'stipulate', 'stirred', 'stirring', 'stock', 'stockings', 'stocks', 'stole', 'stolen', 'stomach', 'stone', 'stood', 'stop', 'stopped', 'stopping', 'stopt', 'store', 'storm', 'stormy', 'story', 'stout', 'straight', 'strains', 'strange', 'strangeness', 'stranger', 'strangers', 'streamed', 'street', 'streets', 'strength', 'strengthen', 'strengthened', 'strengthening', 'stress', 'stretch', 'stretched', 'strict', 'strictest', 'strictly', 'strike', 'strikes', 'striking', 'strikingly', 'string', 'strive', 'striving', 'stroke', 'strong', 'stronger', 'strongest', 'strongly', 'struck', 'struggle', 'struggled', 'struggling', 'stubborn', 'studied', 'studies', 'study', 'stuff', 'stuffed', 'stupid', 'stupified', 'stupor', 'style', 'styled', 'stylish', 'subdue', 'subdued', 'subject', 'subjection', 'subjects', 'submission', 'submissive', 'submit', 'submitted', 'submitting', 'subsequent', 'subservient', 'subsist', 'subsisted', 'subsisting', 'substance', 'succeed', 'succeeded', 'succeeding', 'success', 'successful', 'successfully', 'succession', 'successively', 'succour', 'such', 'sudden', 'suddenly', 'suffer', 'suffered', 'sufferer', 'suffering', 'sufferings', 'suffers', 'suffice', 'sufficient', 'sufficiently', 'sugar', 'suggest', 'suggested', 'suggesting', 'suggestion', 'suit', 'suitable', 'suited', 'suitor', 'sum', 'summer', 'summits', 'summoned', 'summons', 'sun', 'sunk', 'sunshine', 'superannuated', 'superintend', 'superior', 'superiority', 'supper', 'supplanted', 'supplication', 'supplied', 'supply', 'supplying', 'support', 'supported', 'supports', 'suppose', 'supposed', 'supposing', 'supposition', 'sure', 'surely', 'surfaces', 'surpass', 'surpassed', 'surpassing', 'surplice', 'surprise', 'surprised', 'surprising', 'surrounded', 'surrounding', 'survey', 'surveying', 'survived', 'surviving', 'suspect', 'suspected', 'suspecting', 'suspects', 'suspended', 'suspense', 'suspicion', 'suspicions', 'suspicious', 'swallow', 'swallowed', 'sweep', 'sweet', 'sweetest', 'sweetly', 'sweetmeats', 'sweetness', 'swell', 'swelling', 'swept', 'swollen', 'swoon', 'syllable', 'syllables', 'sympathised', 'sympathize', 'sympathy', 'symptom', 'symptoms', 'systems', 't', 'table', 'tablecloth', 'tables', 'take', 'taken', 'takes', 'taking', 'tale', 'talent', 'talents', 'talk', 'talked', 'talker', 'talking', 'talks', 'tall', 'tallest', 'tame', 'tardy', 'task', 'taste', 'tasted', 'tastes', 'tattered', 'taught', 'taverns', 'tax', 'taxed', 'tea', 'teach', 'tears', 'teazed', 'teazing', 'tedious', 'tediously', 'tediousness', 'tell', 'telling', 'tells', 'temper', 'temperate', 'tempers', 'temple', 'temporary', 'temporizing', 'tempt', 'temptation', 'tempted', 'tempting', 'ten', 'tend', 'tended', 'tendency', 'tender', 'tenderest', 'tenderly', 'tenderness', 'tending', 'terminated', 'termination', 'terms', 'terrible', 'terror', 'test', 'testimony', 'tete', 'than', 'thank', 'thanked', 'thankful', 'thankfully', 'thanks', 'that', 'the', 'theft', 'their', 'theirs', 'them', 'theme', 'themselves', 'then', 'thence', 'there', 'therefore', 'these', 'they', 'thick', 'thickly', 'thin', 'thing', 'things', 'think', 'thinking', 'thinks', 'third', 'thirds', 'thirteen', 'thirty', 'this', 'thistles', 'thither', 'thorns', 'thorough', 'thoroughly', 'those', 'though', 'thought', 'thoughtful', 'thoughtfully', 'thoughtfulness', 'thoughtless', 'thoughts', 'thousand', 'threatened', 'threatening', 'threats', 'three', 'threw', 'thrill', 'throat', 'through', 'throughout', 'throw', 'throwing', 'thrown', 'thunderbolt', 'thus', 'tidings', 'tidy', 'tied', 'tiled', 'till', 'timber', 'time', 'timed', 'times', 'tiptoe', 'tired', 'tis', 'tithes', 'to', 'today', 'together', 'toilet', 'told', 'tolerable', 'tolerably', 'toleration', 'tomorrow', 'tone', 'toned', 'tongue', 'tonight', 'too', 'took', 'toothpick', 'topic', 'tore', 'torment', 'tormented', 'torn', 'torrent', 'torture', 'tortured', 'total', 'totally', 'touch', 'touched', 'toward', 'towards', 'tower', 'town', 'trace', 'traced', 'tract', 'traded', 'trades', 'traits', 'tranquil', 'tranquility', 'tranquilize', 'tranquillity', 'transact', 'transacted', 'transgressed', 'transparency', 'transport', 'transporting', 'travel', 'travelled', 'travellers', 'travelling', 'treachery', 'treasured', 'treat', 'treated', 'treating', 'treatment', 'tree', 'trees', 'trembled', 'tremour', 'trial', 'trials', 'tribute', 'trick', 'tricked', 'tricking', 'tricks', 'tried', 'tries', 'trifle', 'trifled', 'trifling', 'trim', 'triumph', 'triumphantly', 'trivial', 'troop', 'trouble', 'troubles', 'troublesome', 'true', 'truest', 'truly', 'trust', 'trusted', 'trusting', 'truth', 'truths', 'try', 'trying', 'tuition', 'tumbled', 'tumbling', 'tuned', 'turf', 'turn', 'turned', 'turning', 'turnpike', 'turns', 'twelve', 'twelvemonth', 'twenty', 'twice', 'twilight', 'twisted', 'two', 'twould', 'ugly', 'unabated', 'unable', 'unaccountable', 'unaccountably', 'unacknowledged', 'unaffected', 'unaffectedly', 'unamiable', 'unanimous', 'unanswerable', 'unavailing', 'unavoidable', 'unavoidably', 'unawares', 'unbiased', 'unblemished', 'unbounded', 'unbroken', 'unceasing', 'uncertain', 'uncertainty', 'unchanged', 'unchanging', 'uncheerful', 'uncivil', 'uncle', 'uncomfortable', 'uncommon', 'uncommonly', 'unconcern', 'unconcerned', 'unconnected', 'unconquerable', 'unconscious', 'uncordial', 'uncouth', 'undeceive', 'undeceiving', 'undecided', 'under', 'undergoing', 'undergone', 'understand', 'understanding', 'understood', 'undertake', 'undertaking', 'undervalue', 'undervalued', 'undeserving', 'undesignedly', 'undesirable', 'undiscerning', 'undivided', 'undoubted', 'undoubtedly', 'undoubtingly', 'undressed', 'uneasiness', 'uneasy', 'unembarrassed', 'unemployed', 'unequal', 'unequivocal', 'unexhilarating', 'unexpected', 'unexpectedly', 'unexpressed', 'unfair', 'unfairly', 'unfashionable', 'unfatherly', 'unfathomable', 'unfavourable', 'unfeeling', 'unfeigned', 'unfit', 'unfolded', 'unforeseen', 'unfortunate', 'unfortunately', 'unfulfilled', 'ungenerous', 'ungenteel', 'ungracious', 'ungraciously', 'ungrateful', 'unguarded', 'unhappiness', 'unhappy', 'uniform', 'uniformly', 'uninfluenced', 'uninformed', 'unintelligible', 'unintentional', 'uninteresting', 'unison', 'unite', 'united', 'unitedly', 'unites', 'uniting', 'universal', 'universally', 'university', 'unjust', 'unjustifiable', 'unkind', 'unkindly', 'unkindness', 'unknowingly', 'unknown', 'unless', 'unlike', 'unlikely', 'unlocked', 'unlover', 'unluckily', 'unlucky', 'unmoved', 'unnatural', 'unnecessary', 'unnoticed', 'unobserved', 'unobtrusive', 'unobtrusiveness', 'unpacked', 'unpardonable', 'unpardoned', 'unpleasant', 'unpleasantest', 'unpleasantness', 'unpleasing', 'unpremeditated', 'unprincipled', 'unpromising', 'unquiet', 'unread', 'unreasonable', 'unreasonably', 'unremitting', 'unreserve', 'unreserved', 'unresisted', 'unrestrained', 'unsatiable', 'unseen', 'unsettle', 'unshaken', 'unsolicited', 'unspeakable', 'unsteady', 'unstudied', 'unsubdued', 'unsuitable', 'unsuitableness', 'unsuited', 'unsuspected', 'unthought', 'untied', 'untouched', 'untried', 'unusual', 'unusually', 'unwarily', 'unwelcome', 'unwell', 'unwilling', 'unwillingly', 'unwillingness', 'unworthiness', 'unworthy', 'unwounded', 'up', 'upon', 'uppermost', 'upright', 'uproar', 'upstairs', 'urge', 'urged', 'urgency', 'urgent', 'urging', 'us', 'usage', 'use', 'used', 'useful', 'useless', 'uselessly', 'ushered', 'using', 'usual', 'usually', 'utility', 'utmost', 'utter', 'utterance', 'vacant', 'vacate', 'vague', 'vain', 'valley', 'valleys', 'valuable', 'value', 'valued', 'valueless', 'vanish', 'vanity', 'variation', 'variations', 'varied', 'variety', 'various', 'varying', 'vast', 'vastly', 've', 'veal', 'vehemence', 'vent', 'venture', 'ventured', 'venturing', 'veracity', 'verbal', 'very', 'vestibule', 'vex', 'vexation', 'vexed', 'vicinity', 'view', 'viewed', 'viewing', 'views', 'vigor', 'vigorous', 'vigour', 'vile', 'village', 'villages', 'villain', 'villainy', 'vindication', 'violence', 'violent', 'violently', 'violins', 'violoncello', 'virtue', 'virtues', 'virtuous', 'virulence', 'visibly', 'visit', 'visited', 'visiting', 'visitor', 'visitors', 'visits', 'vivacity', 'voice', 'voices', 'volume', 'voluntarily', 'voluntary', 'volunteer', 'vouchsafe', 'vouchsafed', 'vowed', 'vulgar', 'vulgarity', 'wager', 'waistcoat', 'waistcoats', 'wait', 'waited', 'waiting', 'walk', 'walked', 'walking', 'walks', 'walls', 'walnut', 'wander', 'wandered', 'wandering', 'want', 'wanted', 'wanting', 'wanton', 'wants', 'warehouse', 'warm', 'warmed', 'warmest', 'warmly', 'warmth', 'warning', 'warrant', 'warranted', 'was', 'washing', 'wasted', 'watch', 'watched', 'watchful', 'watchfulness', 'watching', 'water', 'way', 'ways', 'we', 'weak', 'weaken', 'weakened', 'weakening', 'weakness', 'weaknesses', 'wealth', 'wealthy', 'wear', 'wearing', 'weary', 'weather', 'weathered', 'wedding', 'weddings', 'week', 'weeks', 'weight', 'welcome', 'welcomed', 'welfare', 'well', 'went', 'wept', 'were', 'west', 'westerly', 'westward', 'wet', 'wettest', 'what', 'whatever', 'when', 'whence', 'whenever', 'where', 'wherever', 'whether', 'which', 'while', 'whiled', 'whims', 'whip', 'whisper', 'whispered', 'whispering', 'whist', 'white', 'whiter', 'whither', 'who', 'whoever', 'whole', 'wholly', 'whom', 'whomsoever', 'whose', 'why', 'wicked', 'wicket', 'wide', 'widely', 'widen', 'widow', 'widower', 'wife', 'wild', 'wildest', 'wildly', 'wildness', 'will', 'willing', 'willingness', 'wind', 'winding', 'window', 'windows', 'wine', 'winks', 'winter', 'wiping', 'wisdom', 'wise', 'wiser', 'wisest', 'wish', 'wished', 'wisher', 'wishes', 'wishing', 'wit', 'with', 'withdrawn', 'withdrew', 'withhold', 'within', 'without', 'withstood', 'witness', 'witnessed', 'witnesses', 'witnessing', 'witticisms', 'wittiest', 'witty', 'wives', 'woman', 'women', 'won', 'wonder', 'wondered', 'wonderer', 'wonderful', 'wondering', 'wont', 'wood', 'wooded', 'woods', 'woody', 'word', 'worded', 'words', 'wore', 'work', 'worked', 'working', 'workmen', 'works', 'world', 'worldly', 'worlds', 'worn', 'worried', 'worry', 'worse', 'worship', 'worst', 'worsted', 'worth', 'worthiest', 'worthless', 'worthy', 'would', 'wound', 'wounded', 'wounding', 'wrapped', 'wrapt', 'wretched', 'wretchedly', 'wretchedness', 'write', 'writer', 'writes', 'writing', 'written', 'wrong', 'wronged', 'wrote', 'wrought', 'wrung', 'yard', 'yards', 'ye', 'year', 'yearly', 'years', 'yes', 'yesterday', 'yet', 'yew', 'yield', 'yielded', 'you', 'young', 'younger', 'youngest', 'your', 'yours', 'yourself', 'yourselves', 'youth', 'youthful', 'zeal', 'zealous', 'zealously']\n",
            "6833\n",
            "20.719449729255086\n"
          ]
        }
      ]
    },
    {
      "cell_type": "code",
      "source": [
        "len(text2)/len(set(text2))"
      ],
      "metadata": {
        "colab": {
          "base_uri": "https://localhost:8080/"
        },
        "id": "-mYsy8LdOipU",
        "outputId": "ae7c9f9b-92f7-44cb-aabf-424aba475a7a"
      },
      "execution_count": null,
      "outputs": [
        {
          "output_type": "execute_result",
          "data": {
            "text/plain": [
              "20.719449729255086"
            ]
          },
          "metadata": {},
          "execution_count": 9
        }
      ]
    },
    {
      "cell_type": "code",
      "source": [
        "len(sorted(set(text2)))"
      ],
      "metadata": {
        "colab": {
          "base_uri": "https://localhost:8080/"
        },
        "id": "uafnviO5OhFc",
        "outputId": "62c86959-5519-45f1-8382-431bd31aafa6"
      },
      "execution_count": null,
      "outputs": [
        {
          "output_type": "execute_result",
          "data": {
            "text/plain": [
              "6833"
            ]
          },
          "metadata": {},
          "execution_count": 8
        }
      ]
    },
    {
      "cell_type": "code",
      "source": [
        "sorted(set(text2))"
      ],
      "metadata": {
        "id": "EG0xVwyPOnCV"
      },
      "execution_count": null,
      "outputs": []
    },
    {
      "cell_type": "code",
      "source": [
        "def lexical_diversity(text):\n",
        "  return len(set(text))/len(text)\n",
        "print(lexical_diversity(text2))\n",
        "print(lexical_diversity(text3))\n",
        "print(lexical_diversity(text5))\n",
        "print(lexical_diversity(text9))"
      ],
      "metadata": {
        "colab": {
          "base_uri": "https://localhost:8080/"
        },
        "id": "SOytwW_wP6J-",
        "outputId": "495dfcde-d3eb-4573-aac3-e591fa30fa75"
      },
      "execution_count": null,
      "outputs": [
        {
          "output_type": "stream",
          "name": "stdout",
          "text": [
            "0.04826383002768831\n",
            "0.06230453042623537\n",
            "0.13477005109975562\n",
            "0.0983485761345412\n"
          ]
        }
      ]
    },
    {
      "cell_type": "code",
      "source": [
        "fdist2=FreqDist(text2)\n",
        "print(fdist2)\n",
        "fdist2.most_common(100)"
      ],
      "metadata": {
        "id": "kDxe5S4JRr02"
      },
      "execution_count": null,
      "outputs": []
    },
    {
      "cell_type": "code",
      "source": [
        "fdist3=FreqDist(text3)\n",
        "print(fdist3)\n",
        "fdist3.most_common(50)"
      ],
      "metadata": {
        "id": "DVj348lrRzJO"
      },
      "execution_count": null,
      "outputs": []
    },
    {
      "cell_type": "code",
      "source": [
        "fdist3=FreqDist(text3)\n",
        "print(fdist3)\n",
        "print(fdist3['God'])\n",
        "print(fdist3['love'])\n",
        "print(fdist3['Adam'])\n",
        "print(fdist3['Eve'])"
      ],
      "metadata": {
        "colab": {
          "base_uri": "https://localhost:8080/"
        },
        "id": "2hGje--kSB-d",
        "outputId": "8fc30d03-13b8-43b4-f2b7-eeb2abc70d96"
      },
      "execution_count": null,
      "outputs": [
        {
          "output_type": "stream",
          "name": "stdout",
          "text": [
            "<FreqDist with 2789 samples and 44764 outcomes>\n",
            "231\n",
            "4\n",
            "18\n",
            "2\n"
          ]
        }
      ]
    },
    {
      "cell_type": "code",
      "source": [
        "fdist3.plot(50, cumulative=True)"
      ],
      "metadata": {
        "colab": {
          "base_uri": "https://localhost:8080/",
          "height": 320
        },
        "id": "JIO9UQ-MTCHd",
        "outputId": "971586e5-11b2-4a7c-9d97-e2a1450c08cd"
      },
      "execution_count": null,
      "outputs": [
        {
          "output_type": "display_data",
          "data": {
            "text/plain": [
              "<Figure size 432x288 with 1 Axes>"
            ],
            "image/png": "[encoded data removed]"
          },
          "metadata": {
            "needs_background": "light"
          }
        },
        {
          "output_type": "execute_result",
          "data": {
            "text/plain": [
              "<matplotlib.axes._subplots.AxesSubplot at 0x7f96d3766910>"
            ]
          },
          "metadata": {},
          "execution_count": 24
        }
      ]
    },
    {
      "cell_type": "code",
      "source": [
        "V=set(text1)\n",
        "long_words=[w for w in V if len(w)>15]\n",
        "sorted(long_words)"
      ],
      "metadata": {
        "colab": {
          "base_uri": "https://localhost:8080/"
        },
        "id": "_H2Tf1Q_TdHu",
        "outputId": "e4b8c361-3b9f-438e-cb01-5d2aeabccd7b"
      },
      "execution_count": null,
      "outputs": [
        {
          "output_type": "execute_result",
          "data": {
            "text/plain": [
              "['CIRCUMNAVIGATION',\n",
              " 'Physiognomically',\n",
              " 'apprehensiveness',\n",
              " 'cannibalistically',\n",
              " 'characteristically',\n",
              " 'circumnavigating',\n",
              " 'circumnavigation',\n",
              " 'circumnavigations',\n",
              " 'comprehensiveness',\n",
              " 'hermaphroditical',\n",
              " 'indiscriminately',\n",
              " 'indispensableness',\n",
              " 'irresistibleness',\n",
              " 'physiognomically',\n",
              " 'preternaturalness',\n",
              " 'responsibilities',\n",
              " 'simultaneousness',\n",
              " 'subterraneousness',\n",
              " 'supernaturalness',\n",
              " 'superstitiousness',\n",
              " 'uncomfortableness',\n",
              " 'uncompromisedness',\n",
              " 'undiscriminating',\n",
              " 'uninterpenetratingly']"
            ]
          },
          "metadata": {},
          "execution_count": 25
        }
      ]
    },
    {
      "cell_type": "code",
      "source": [
        "fdist5=FreqDist(text5)\n",
        "sorted(w for w in set(text5) if len (w) > 7 and fdist5[w]>7)"
      ],
      "metadata": {
        "colab": {
          "base_uri": "https://localhost:8080/"
        },
        "id": "3NzGaVLBTwQl",
        "outputId": "ae9ed0ad-02cb-42df-9884-1cdbef18fa65"
      },
      "execution_count": null,
      "outputs": [
        {
          "output_type": "execute_result",
          "data": {
            "text/plain": [
              "['#14-19teens',\n",
              " '#talkcity_adults',\n",
              " '((((((((((',\n",
              " '........',\n",
              " 'Question',\n",
              " 'actually',\n",
              " 'anything',\n",
              " 'computer',\n",
              " 'cute.-ass',\n",
              " 'everyone',\n",
              " 'football',\n",
              " 'innocent',\n",
              " 'listening',\n",
              " 'remember',\n",
              " 'seriously',\n",
              " 'something',\n",
              " 'together',\n",
              " 'tomorrow',\n",
              " 'watching']"
            ]
          },
          "metadata": {},
          "execution_count": 26
        }
      ]
    },
    {
      "cell_type": "code",
      "source": [
        "import nltk\n",
        "nltk.download('gutenberg')\n",
        "from nltk.corpus import gutenberg\n",
        "gutenberg.fileids()"
      ],
      "metadata": {
        "colab": {
          "base_uri": "https://localhost:8080/"
        },
        "id": "kg59Kw1mUUMm",
        "outputId": "10b5ebcb-66d3-4f74-d020-3cdbe988b83c"
      },
      "execution_count": null,
      "outputs": [
        {
          "output_type": "stream",
          "name": "stderr",
          "text": [
            "[nltk_data] Downloading package gutenberg to /root/nltk_data...\n",
            "[nltk_data]   Package gutenberg is already up-to-date!\n"
          ]
        },
        {
          "output_type": "execute_result",
          "data": {
            "text/plain": [
              "['austen-emma.txt',\n",
              " 'austen-persuasion.txt',\n",
              " 'austen-sense.txt',\n",
              " 'bible-kjv.txt',\n",
              " 'blake-poems.txt',\n",
              " 'bryant-stories.txt',\n",
              " 'burgess-busterbrown.txt',\n",
              " 'carroll-alice.txt',\n",
              " 'chesterton-ball.txt',\n",
              " 'chesterton-brown.txt',\n",
              " 'chesterton-thursday.txt',\n",
              " 'edgeworth-parents.txt',\n",
              " 'melville-moby_dick.txt',\n",
              " 'milton-paradise.txt',\n",
              " 'shakespeare-caesar.txt',\n",
              " 'shakespeare-hamlet.txt',\n",
              " 'shakespeare-macbeth.txt',\n",
              " 'whitman-leaves.txt']"
            ]
          },
          "metadata": {},
          "execution_count": 27
        }
      ]
    },
    {
      "cell_type": "code",
      "source": [
        "emma=gutenberg.words('austen-emma.txt')\n",
        "print(emma)\n",
        "print(len(emma))\n",
        "print(len(set(w.lower() for w in emma)))"
      ],
      "metadata": {
        "colab": {
          "base_uri": "https://localhost:8080/"
        },
        "id": "-kIgAO9yVICG",
        "outputId": "fbae2442-78a7-4837-a9ca-b82fcf285ce0"
      },
      "execution_count": null,
      "outputs": [
        {
          "output_type": "stream",
          "name": "stdout",
          "text": [
            "['[', 'Emma', 'by', 'Jane', 'Austen', '1816', ']', ...]\n",
            "192427\n",
            "7344\n"
          ]
        }
      ]
    },
    {
      "cell_type": "code",
      "source": [
        "nltk.download('punkt')\n",
        "emma=gutenberg.sents('austen-emma.txt')\n",
        "print(emma)\n",
        "print(len(emma))\n"
      ],
      "metadata": {
        "colab": {
          "base_uri": "https://localhost:8080/"
        },
        "id": "x9tChCsJVV10",
        "outputId": "4eae798f-26aa-4831-ae45-d282163f6d1f"
      },
      "execution_count": null,
      "outputs": [
        {
          "output_type": "stream",
          "name": "stderr",
          "text": [
            "[nltk_data] Downloading package punkt to /root/nltk_data...\n",
            "[nltk_data]   Package punkt is already up-to-date!\n"
          ]
        },
        {
          "output_type": "stream",
          "name": "stdout",
          "text": [
            "[['[', 'Emma', 'by', 'Jane', 'Austen', '1816', ']'], ['VOLUME', 'I'], ...]\n",
            "7717\n"
          ]
        }
      ]
    },
    {
      "cell_type": "code",
      "source": [
        "nltk.download('brown')\n",
        "from nltk.corpus import brown\n",
        "brown.categories()"
      ],
      "metadata": {
        "colab": {
          "base_uri": "https://localhost:8080/"
        },
        "id": "RmE2xUrGWC8l",
        "outputId": "d837d9e2-5c1b-4681-8006-f7c792f31fe8"
      },
      "execution_count": null,
      "outputs": [
        {
          "output_type": "stream",
          "name": "stderr",
          "text": [
            "[nltk_data] Downloading package brown to /root/nltk_data...\n",
            "[nltk_data]   Package brown is already up-to-date!\n"
          ]
        },
        {
          "output_type": "execute_result",
          "data": {
            "text/plain": [
              "['adventure',\n",
              " 'belles_lettres',\n",
              " 'editorial',\n",
              " 'fiction',\n",
              " 'government',\n",
              " 'hobbies',\n",
              " 'humor',\n",
              " 'learned',\n",
              " 'lore',\n",
              " 'mystery',\n",
              " 'news',\n",
              " 'religion',\n",
              " 'reviews',\n",
              " 'romance',\n",
              " 'science_fiction']"
            ]
          },
          "metadata": {},
          "execution_count": 30
        }
      ]
    },
    {
      "cell_type": "code",
      "source": [],
      "metadata": {
        "id": "-Hw0cD9pWMSd"
      },
      "execution_count": null,
      "outputs": []
    }
  ]
}