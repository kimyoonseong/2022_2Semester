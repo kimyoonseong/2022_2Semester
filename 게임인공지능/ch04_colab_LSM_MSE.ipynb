{
  "cells": [
    {
      "cell_type": "markdown",
      "id": "df693600",
      "metadata": {
        "id": "df693600"
      },
      "source": [
        "# 4장. 가장 훌륭한 예측선"
      ]
    },
    {
      "cell_type": "markdown",
      "id": "cb4bb2c8",
      "metadata": {
        "id": "cb4bb2c8"
      },
      "source": [
        "## 4. 파이썬 코딩으로 확인하는 최소 제곱"
      ]
    },
    {
      "cell_type": "markdown",
      "id": "8ce90623",
      "metadata": {
        "id": "8ce90623"
      },
      "source": [
        "### 1. 환경 준비"
      ]
    },
    {
      "cell_type": "code",
      "execution_count": null,
      "id": "86907981",
      "metadata": {
        "id": "86907981"
      },
      "outputs": [],
      "source": [
        "import numpy as np"
      ]
    },
    {
      "cell_type": "markdown",
      "id": "26e7632f",
      "metadata": {
        "id": "26e7632f"
      },
      "source": [
        "### 2. 데이터 준비"
      ]
    },
    {
      "cell_type": "code",
      "execution_count": null,
      "id": "a1678fe5",
      "metadata": {
        "id": "a1678fe5"
      },
      "outputs": [],
      "source": [
        "# 공부한 시간과 점수를 각각 x, y라는 이름의 넘파이 배열로 만듭니다.\n",
        "data = [[2, 81], [4, 93], [6, 91], [8, 97]]\n",
        "\n",
        "x = np.array([i[0] for i in data])\n",
        "y = np.array([i[1] for i in data]) "
      ]
    },
    {
      "cell_type": "markdown",
      "source": [
        "### [matplotlib를 이용하여 scatter plot 그래프 그리기]"
      ],
      "metadata": {
        "id": "4q5hqykkniPZ"
      },
      "id": "4q5hqykkniPZ"
    },
    {
      "cell_type": "code",
      "source": [
        "import matplotlib.pyplot as plt\n",
        "\n",
        "plt.scatter(x, y, color='green')\n",
        "plt.show()"
      ],
      "metadata": {
        "colab": {
          "base_uri": "https://localhost:8080/",
          "height": 265
        },
        "id": "CVuyUIKsnhbl",
        "outputId": "1f7aca3c-25a2-4228-fe47-7c00dcf9dde7"
      },
      "id": "CVuyUIKsnhbl",
      "execution_count": null,
      "outputs": [
        {
          "output_type": "display_data",
          "data": {
            "text/plain": [
              "<Figure size 432x288 with 1 Axes>"
            ],
            "image/png": "[encoded data removed]"
          },
          "metadata": {
            "needs_background": "light"
          }
        }
      ]
    },
    {
      "cell_type": "markdown",
      "id": "2ad27943",
      "metadata": {
        "id": "2ad27943"
      },
      "source": [
        "#### [x와 y의 평균값]"
      ]
    },
    {
      "cell_type": "code",
      "execution_count": null,
      "id": "ba68a3b7",
      "metadata": {
        "id": "ba68a3b7",
        "outputId": "f2a6c686-3a05-4a96-e03d-cb8c0f344ebd",
        "colab": {
          "base_uri": "https://localhost:8080/"
        }
      },
      "outputs": [
        {
          "output_type": "stream",
          "name": "stdout",
          "text": [
            "x의 평균값: 5.0\n",
            "y의 평균값: 90.5\n"
          ]
        }
      ],
      "source": [
        "#x의 평균값을 구합니다.\n",
        "mx = np.mean(x)\n",
        "\n",
        "#y의 평균값을 구합니다.\n",
        "my = np.mean(y)\n",
        "\n",
        "# 출력으로 확인합니다.\n",
        "print(\"x의 평균값:\", mx)\n",
        "print(\"y의 평균값:\", my)"
      ]
    },
    {
      "cell_type": "markdown",
      "id": "86e62f9d",
      "metadata": {
        "id": "86e62f9d"
      },
      "source": [
        "#### [기울기 공식의 분모와 분자]"
      ]
    },
    {
      "cell_type": "code",
      "execution_count": null,
      "id": "8ca14c62",
      "metadata": {
        "id": "8ca14c62",
        "outputId": "64a23f72-794f-49cf-a6bd-3520b621fdff",
        "colab": {
          "base_uri": "https://localhost:8080/"
        }
      },
      "outputs": [
        {
          "output_type": "stream",
          "name": "stdout",
          "text": [
            "분모: 20.0\n",
            "분자: 46.0\n"
          ]
        }
      ],
      "source": [
        "# 기울기 공식의 분모 부분입니다.\n",
        "divisor = sum([(i - mx)**2 for i in x])\n",
        "\n",
        "# 기울기 공식의 분자 부분입니다.\n",
        "def top(x, mx, y, my):\n",
        "    d = 0\n",
        "    for i in range(len(x)):\n",
        "        d += (x[i] - mx) * (y[i] - my)\n",
        "    return d\n",
        "dividend = top(x, mx, y, my)\n",
        "\n",
        "# 출력으로 확인합니다.\n",
        "print(\"분모:\", divisor)\n",
        "print(\"분자:\", dividend)"
      ]
    },
    {
      "cell_type": "markdown",
      "id": "c117d1fe",
      "metadata": {
        "id": "c117d1fe"
      },
      "source": [
        "### 3. 기울기와 y 절편 구하기"
      ]
    },
    {
      "cell_type": "code",
      "execution_count": null,
      "id": "0fa99a7d",
      "metadata": {
        "id": "0fa99a7d",
        "outputId": "7d07e273-9062-4376-ad3c-719f09cdf269",
        "colab": {
          "base_uri": "https://localhost:8080/"
        }
      },
      "outputs": [
        {
          "output_type": "stream",
          "name": "stdout",
          "text": [
            "기울기 a = 2.3\n",
            "y절편 b = 79.0\n"
          ]
        }
      ],
      "source": [
        "# 기울기 a를 구하는 공식입니다.\n",
        "a = dividend / divisor\n",
        "\n",
        "# y 절편 b를 구하는 공식입니다.\n",
        "b = my - (mx*a)\n",
        "\n",
        "# 출력으로 확인합니다.\n",
        "print(\"기울기 a =\", a) \n",
        "print(\"y절편 b =\", b)"
      ]
    },
    {
      "cell_type": "markdown",
      "source": [
        "[Regression line 그리기]"
      ],
      "metadata": {
        "id": "9HC-gTcMor9D"
      },
      "id": "9HC-gTcMor9D"
    },
    {
      "cell_type": "code",
      "source": [
        "plt.scatter(x, y, color='green')\n",
        "plt.plot(x, a*x+b, color='red')\n",
        "plt.show()"
      ],
      "metadata": {
        "colab": {
          "base_uri": "https://localhost:8080/",
          "height": 265
        },
        "id": "p9gLn_9OotGw",
        "outputId": "f9779b11-42ca-4b01-92cb-efdd55debf49"
      },
      "id": "p9gLn_9OotGw",
      "execution_count": null,
      "outputs": [
        {
          "output_type": "display_data",
          "data": {
            "text/plain": [
              "<Figure size 432x288 with 1 Axes>"
            ],
            "image/png": "[encoded data removed]"
          },
          "metadata": {
            "needs_background": "light"
          }
        }
      ]
    },
    {
      "cell_type": "markdown",
      "id": "4fb18def",
      "metadata": {
        "id": "4fb18def"
      },
      "source": [
        "## 6. 파이썬 코딩으로 확인하는 평균 제곱 오차"
      ]
    },
    {
      "cell_type": "markdown",
      "id": "e03f22bc",
      "metadata": {
        "id": "e03f22bc"
      },
      "source": [
        "### 1. 환경 준비"
      ]
    },
    {
      "cell_type": "code",
      "execution_count": null,
      "id": "ef1960f8",
      "metadata": {
        "id": "ef1960f8"
      },
      "outputs": [],
      "source": [
        "import numpy as np"
      ]
    },
    {
      "cell_type": "markdown",
      "id": "d269ffc7",
      "metadata": {
        "id": "d269ffc7"
      },
      "source": [
        "### 2. 데이터 준비"
      ]
    },
    {
      "cell_type": "code",
      "execution_count": null,
      "id": "3aa4d4da",
      "metadata": {
        "id": "3aa4d4da"
      },
      "outputs": [],
      "source": [
        "# 가상의 기울기 a와 y 절편 b를 정합니다.\n",
        "#fake_a=3\n",
        "#fake_b=76\n",
        "fake_a=0.6\n",
        "fake_b=2.2\n",
        "\n",
        "# 공부 시간 x와 성적 y의 넘파이 배열을 만듭니다.\n",
        "\n",
        "data = [[1, 2], [2, 4], [3, 5], [4, 4],[5,5]]\n",
        "\n",
        "x = np.array([i[0] for i in data])\n",
        "y = np.array([i[1] for i in data]) "
      ]
    },
    {
      "cell_type": "markdown",
      "id": "5673ef31",
      "metadata": {
        "id": "5673ef31"
      },
      "source": [
        "### 3. 평균 제곱 오차 구하기"
      ]
    },
    {
      "cell_type": "code",
      "execution_count": null,
      "id": "142745f3",
      "metadata": {
        "id": "142745f3",
        "outputId": "ee8e955a-3877-4c1e-9341-743881a5c863",
        "colab": {
          "base_uri": "https://localhost:8080/"
        }
      },
      "outputs": [
        {
          "output_type": "stream",
          "name": "stdout",
          "text": [
            "공부시간=1, 실제점수=2, 예측점수=3\n",
            "공부시간=2, 실제점수=4, 예측점수=3\n",
            "공부시간=3, 실제점수=5, 예측점수=4\n",
            "공부시간=4, 실제점수=4, 예측점수=5\n",
            "공부시간=5, 실제점수=5, 예측점수=5\n"
          ]
        }
      ],
      "source": [
        "# y=ax + b에 가상의 a,b 값을 대입한 결과를 출력하는 함수입니다.\n",
        "def predict(x):\n",
        "    return fake_a * x + fake_b\n",
        "\n",
        "# 예측 값이 들어갈 빈 리스트를 만듭니다.\n",
        "predict_result = []\n",
        "\n",
        "# 모든 x 값을 한 번씩 대입하여 predict_result 리스트를 완성합니다.\n",
        "for i in range(len(x)):\n",
        "    predict_result.append(predict(x[i]))\n",
        "    print(\"공부시간=%.f, 실제점수=%.f, 예측점수=%.f\" % (x[i], y[i], predict(x[i])))"
      ]
    },
    {
      "cell_type": "code",
      "execution_count": null,
      "id": "c90e102f",
      "metadata": {
        "id": "c90e102f",
        "outputId": "8fa6ee71-ad39-42f1-e341-c7c2279a7725",
        "colab": {
          "base_uri": "https://localhost:8080/"
        }
      },
      "outputs": [
        {
          "output_type": "stream",
          "name": "stdout",
          "text": [
            "평균 제곱 오차: 0.4799999999999999\n"
          ]
        }
      ],
      "source": [
        "# 평균 제곱 오차 함수를 각 y 값에 대입하여 최종 값을 구하는 함수입니다.\n",
        "n=len(x)  \n",
        "def mse(y, y_pred):\n",
        "    return (1/n) * sum((y - y_pred)**2)\n",
        "\n",
        "# 평균 제곱 오차 값을 출력합니다.\n",
        "print(\"평균 제곱 오차: \" + str(mse(y, predict_result)))"
      ]
    }
  ],
  "metadata": {
    "kernelspec": {
      "display_name": "Python 3 (ipykernel)",
      "language": "python",
      "name": "python3"
    },
    "language_info": {
      "codemirror_mode": {
        "name": "ipython",
        "version": 3
      },
      "file_extension": ".py",
      "mimetype": "text/x-python",
      "name": "python",
      "nbconvert_exporter": "python",
      "pygments_lexer": "ipython3",
      "version": "3.9.7"
    },
    "colab": {
      "provenance": []
    }
  },
  "nbformat": 4,
  "nbformat_minor": 5
}